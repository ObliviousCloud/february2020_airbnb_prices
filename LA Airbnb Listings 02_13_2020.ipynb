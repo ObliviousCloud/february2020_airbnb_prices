{
 "cells": [
  {
   "cell_type": "code",
   "execution_count": 1,
   "metadata": {},
   "outputs": [],
   "source": [
    "import pandas as pd\n",
    "import numpy as np\n",
    "import matplotlib.pyplot as plt"
   ]
  },
  {
   "cell_type": "code",
   "execution_count": 2,
   "metadata": {},
   "outputs": [],
   "source": [
    "csv = 'la_airbnb_02_13_2020_listings.csv'"
   ]
  },
  {
   "cell_type": "code",
   "execution_count": 3,
   "metadata": {},
   "outputs": [],
   "source": [
    "df = pd.read_csv(csv)"
   ]
  },
  {
   "cell_type": "code",
   "execution_count": 4,
   "metadata": {},
   "outputs": [
    {
     "data": {
      "text/html": [
       "<div>\n",
       "<style scoped>\n",
       "    .dataframe tbody tr th:only-of-type {\n",
       "        vertical-align: middle;\n",
       "    }\n",
       "\n",
       "    .dataframe tbody tr th {\n",
       "        vertical-align: top;\n",
       "    }\n",
       "\n",
       "    .dataframe thead th {\n",
       "        text-align: right;\n",
       "    }\n",
       "</style>\n",
       "<table border=\"1\" class=\"dataframe\">\n",
       "  <thead>\n",
       "    <tr style=\"text-align: right;\">\n",
       "      <th></th>\n",
       "      <th>id</th>\n",
       "      <th>name</th>\n",
       "      <th>host_id</th>\n",
       "      <th>host_name</th>\n",
       "      <th>neighbourhood_group</th>\n",
       "      <th>neighbourhood</th>\n",
       "      <th>latitude</th>\n",
       "      <th>longitude</th>\n",
       "      <th>room_type</th>\n",
       "      <th>price</th>\n",
       "      <th>minimum_nights</th>\n",
       "      <th>number_of_reviews</th>\n",
       "      <th>last_review</th>\n",
       "      <th>reviews_per_month</th>\n",
       "      <th>calculated_host_listings_count</th>\n",
       "      <th>availability_365</th>\n",
       "    </tr>\n",
       "  </thead>\n",
       "  <tbody>\n",
       "    <tr>\n",
       "      <th>0</th>\n",
       "      <td>109</td>\n",
       "      <td>Amazing bright elegant condo park front *UPGRA...</td>\n",
       "      <td>521</td>\n",
       "      <td>Paolo</td>\n",
       "      <td>Other Cities</td>\n",
       "      <td>Culver City</td>\n",
       "      <td>33.98209</td>\n",
       "      <td>-118.38494</td>\n",
       "      <td>Entire home/apt</td>\n",
       "      <td>122</td>\n",
       "      <td>30</td>\n",
       "      <td>2</td>\n",
       "      <td>2016-05-15</td>\n",
       "      <td>0.02</td>\n",
       "      <td>1</td>\n",
       "      <td>0</td>\n",
       "    </tr>\n",
       "    <tr>\n",
       "      <th>1</th>\n",
       "      <td>344</td>\n",
       "      <td>Family perfect;Pool;Near Studios!</td>\n",
       "      <td>767</td>\n",
       "      <td>Melissa</td>\n",
       "      <td>Other Cities</td>\n",
       "      <td>Burbank</td>\n",
       "      <td>34.16562</td>\n",
       "      <td>-118.33458</td>\n",
       "      <td>Entire home/apt</td>\n",
       "      <td>168</td>\n",
       "      <td>2</td>\n",
       "      <td>8</td>\n",
       "      <td>2019-10-19</td>\n",
       "      <td>0.18</td>\n",
       "      <td>1</td>\n",
       "      <td>119</td>\n",
       "    </tr>\n",
       "    <tr>\n",
       "      <th>2</th>\n",
       "      <td>2708</td>\n",
       "      <td>Mirrored Mini-Suite with Fireplace - W. Hollywood</td>\n",
       "      <td>3008</td>\n",
       "      <td>Chas.</td>\n",
       "      <td>City of Los Angeles</td>\n",
       "      <td>Hollywood</td>\n",
       "      <td>34.09768</td>\n",
       "      <td>-118.34602</td>\n",
       "      <td>Private room</td>\n",
       "      <td>79</td>\n",
       "      <td>30</td>\n",
       "      <td>23</td>\n",
       "      <td>2019-12-12</td>\n",
       "      <td>0.33</td>\n",
       "      <td>2</td>\n",
       "      <td>304</td>\n",
       "    </tr>\n",
       "    <tr>\n",
       "      <th>3</th>\n",
       "      <td>2732</td>\n",
       "      <td>Zen Life at the Beach</td>\n",
       "      <td>3041</td>\n",
       "      <td>Yoga Priestess</td>\n",
       "      <td>Other Cities</td>\n",
       "      <td>Santa Monica</td>\n",
       "      <td>34.00475</td>\n",
       "      <td>-118.48127</td>\n",
       "      <td>Private room</td>\n",
       "      <td>140</td>\n",
       "      <td>1</td>\n",
       "      <td>21</td>\n",
       "      <td>2019-12-27</td>\n",
       "      <td>0.20</td>\n",
       "      <td>2</td>\n",
       "      <td>337</td>\n",
       "    </tr>\n",
       "    <tr>\n",
       "      <th>4</th>\n",
       "      <td>2864</td>\n",
       "      <td>*Upscale Professional Home with Beautiful Studio*</td>\n",
       "      <td>3207</td>\n",
       "      <td>Bernadine</td>\n",
       "      <td>Other Cities</td>\n",
       "      <td>Bellflower</td>\n",
       "      <td>33.87619</td>\n",
       "      <td>-118.11397</td>\n",
       "      <td>Entire home/apt</td>\n",
       "      <td>80</td>\n",
       "      <td>2</td>\n",
       "      <td>0</td>\n",
       "      <td>NaN</td>\n",
       "      <td>NaN</td>\n",
       "      <td>1</td>\n",
       "      <td>0</td>\n",
       "    </tr>\n",
       "  </tbody>\n",
       "</table>\n",
       "</div>"
      ],
      "text/plain": [
       "     id                                               name  host_id  \\\n",
       "0   109  Amazing bright elegant condo park front *UPGRA...      521   \n",
       "1   344                  Family perfect;Pool;Near Studios!      767   \n",
       "2  2708  Mirrored Mini-Suite with Fireplace - W. Hollywood     3008   \n",
       "3  2732                              Zen Life at the Beach     3041   \n",
       "4  2864  *Upscale Professional Home with Beautiful Studio*     3207   \n",
       "\n",
       "        host_name  neighbourhood_group neighbourhood  latitude  longitude  \\\n",
       "0           Paolo         Other Cities   Culver City  33.98209 -118.38494   \n",
       "1         Melissa         Other Cities       Burbank  34.16562 -118.33458   \n",
       "2           Chas.  City of Los Angeles     Hollywood  34.09768 -118.34602   \n",
       "3  Yoga Priestess         Other Cities  Santa Monica  34.00475 -118.48127   \n",
       "4       Bernadine         Other Cities    Bellflower  33.87619 -118.11397   \n",
       "\n",
       "         room_type  price  minimum_nights  number_of_reviews last_review  \\\n",
       "0  Entire home/apt    122              30                  2  2016-05-15   \n",
       "1  Entire home/apt    168               2                  8  2019-10-19   \n",
       "2     Private room     79              30                 23  2019-12-12   \n",
       "3     Private room    140               1                 21  2019-12-27   \n",
       "4  Entire home/apt     80               2                  0         NaN   \n",
       "\n",
       "   reviews_per_month  calculated_host_listings_count  availability_365  \n",
       "0               0.02                               1                 0  \n",
       "1               0.18                               1               119  \n",
       "2               0.33                               2               304  \n",
       "3               0.20                               2               337  \n",
       "4                NaN                               1                 0  "
      ]
     },
     "execution_count": 4,
     "metadata": {},
     "output_type": "execute_result"
    }
   ],
   "source": [
    "df.head()"
   ]
  },
  {
   "cell_type": "code",
   "execution_count": 5,
   "metadata": {},
   "outputs": [
    {
     "data": {
      "text/plain": [
       "<bound method DataFrame.info of              id                                               name    host_id  \\\n",
       "0           109  Amazing bright elegant condo park front *UPGRA...        521   \n",
       "1           344                  Family perfect;Pool;Near Studios!        767   \n",
       "2          2708  Mirrored Mini-Suite with Fireplace - W. Hollywood       3008   \n",
       "3          2732                              Zen Life at the Beach       3041   \n",
       "4          2864  *Upscale Professional Home with Beautiful Studio*       3207   \n",
       "...         ...                                                ...        ...   \n",
       "38846  42251431         Cedars Sinai Gorgeous 2 bedroom 2 bathroom   17739626   \n",
       "38847  42252474     Relaxing studio minutes away from the beach!!!    9745832   \n",
       "38848  42252493   Stylish & Spacious 2BR Duplex close to the Beach  293807554   \n",
       "38849  42253723                 Luxury Marina WaterFront Apartment   27798046   \n",
       "38850  42254828    Perfect Valley Retreat w Pool and Free Parking!    3152735   \n",
       "\n",
       "            host_name   neighbourhood_group   neighbourhood   latitude  \\\n",
       "0               Paolo          Other Cities     Culver City  33.982090   \n",
       "1             Melissa          Other Cities         Burbank  34.165620   \n",
       "2               Chas.   City of Los Angeles       Hollywood  34.097680   \n",
       "3      Yoga Priestess          Other Cities    Santa Monica  34.004750   \n",
       "4           Bernadine          Other Cities      Bellflower  33.876190   \n",
       "...               ...                   ...             ...        ...   \n",
       "38846          Cheryl   City of Los Angeles   Beverly Grove  34.071470   \n",
       "38847         Tatiana  Unincorporated Areas  Marina del Rey  33.968415   \n",
       "38848          Alexis          Other Cities    Santa Monica  34.007599   \n",
       "38849      Konstantin  Unincorporated Areas  Marina del Rey  33.974649   \n",
       "38850          Sylvia   City of Los Angeles        Van Nuys  34.195198   \n",
       "\n",
       "        longitude        room_type  price  minimum_nights  number_of_reviews  \\\n",
       "0     -118.384940  Entire home/apt    122              30                  2   \n",
       "1     -118.334580  Entire home/apt    168               2                  8   \n",
       "2     -118.346020     Private room     79              30                 23   \n",
       "3     -118.481270     Private room    140               1                 21   \n",
       "4     -118.113970  Entire home/apt     80               2                  0   \n",
       "...           ...              ...    ...             ...                ...   \n",
       "38846 -118.380998  Entire home/apt    265              30                  0   \n",
       "38847 -118.451753  Entire home/apt     99               2                  0   \n",
       "38848 -118.487223  Entire home/apt    295               3                  0   \n",
       "38849 -118.450420  Entire home/apt    199               2                  0   \n",
       "38850 -118.477788  Entire home/apt     80              30                  0   \n",
       "\n",
       "      last_review  reviews_per_month  calculated_host_listings_count  \\\n",
       "0      2016-05-15               0.02                               1   \n",
       "1      2019-10-19               0.18                               1   \n",
       "2      2019-12-12               0.33                               2   \n",
       "3      2019-12-27               0.20                               2   \n",
       "4             NaN                NaN                               1   \n",
       "...           ...                ...                             ...   \n",
       "38846         NaN                NaN                               9   \n",
       "38847         NaN                NaN                               3   \n",
       "38848         NaN                NaN                               1   \n",
       "38849         NaN                NaN                               1   \n",
       "38850         NaN                NaN                               3   \n",
       "\n",
       "       availability_365  \n",
       "0                     0  \n",
       "1                   119  \n",
       "2                   304  \n",
       "3                   337  \n",
       "4                     0  \n",
       "...                 ...  \n",
       "38846               361  \n",
       "38847               264  \n",
       "38848               322  \n",
       "38849               164  \n",
       "38850               340  \n",
       "\n",
       "[38851 rows x 16 columns]>"
      ]
     },
     "execution_count": 5,
     "metadata": {},
     "output_type": "execute_result"
    }
   ],
   "source": [
    "df.info"
   ]
  },
  {
   "cell_type": "code",
   "execution_count": 6,
   "metadata": {},
   "outputs": [
    {
     "data": {
      "text/plain": [
       "(38851, 16)"
      ]
     },
     "execution_count": 6,
     "metadata": {},
     "output_type": "execute_result"
    }
   ],
   "source": [
    "df.shape"
   ]
  },
  {
   "cell_type": "code",
   "execution_count": 7,
   "metadata": {},
   "outputs": [
    {
     "data": {
      "text/plain": [
       "Index(['id', 'name', 'host_id', 'host_name', 'neighbourhood_group',\n",
       "       'neighbourhood', 'latitude', 'longitude', 'room_type', 'price',\n",
       "       'minimum_nights', 'number_of_reviews', 'last_review',\n",
       "       'reviews_per_month', 'calculated_host_listings_count',\n",
       "       'availability_365'],\n",
       "      dtype='object')"
      ]
     },
     "execution_count": 7,
     "metadata": {},
     "output_type": "execute_result"
    }
   ],
   "source": [
    "df.columns"
   ]
  },
  {
   "cell_type": "code",
   "execution_count": 8,
   "metadata": {},
   "outputs": [
    {
     "data": {
      "text/plain": [
       "City of Los Angeles     22890\n",
       "Other Cities            13093\n",
       "Unincorporated Areas     2868\n",
       "Name: neighbourhood_group, dtype: int64"
      ]
     },
     "execution_count": 8,
     "metadata": {},
     "output_type": "execute_result"
    }
   ],
   "source": [
    "df['neighbourhood_group'].value_counts()"
   ]
  },
  {
   "cell_type": "code",
   "execution_count": 31,
   "metadata": {
    "scrolled": true
   },
   "outputs": [
    {
     "data": {
      "text/plain": [
       "Venice                  1971\n",
       "Hollywood               1931\n",
       "Long Beach              1793\n",
       "Downtown                1403\n",
       "Santa Monica            1298\n",
       "                        ... \n",
       "Hawaiian Gardens           1\n",
       "Chatsworth Reservoir       1\n",
       "Ridge Route                1\n",
       "Cudahy                     1\n",
       "South Diamond Bar          1\n",
       "Name: neighbourhood, Length: 264, dtype: int64"
      ]
     },
     "execution_count": 31,
     "metadata": {},
     "output_type": "execute_result"
    }
   ],
   "source": [
    "df['neighbourhood'].value_counts(sort=True)"
   ]
  },
  {
   "cell_type": "code",
   "execution_count": 32,
   "metadata": {},
   "outputs": [
    {
     "data": {
      "text/plain": [
       "Venice                  0.050732\n",
       "Hollywood               0.049703\n",
       "Long Beach              0.046151\n",
       "Downtown                0.036112\n",
       "Santa Monica            0.033410\n",
       "                          ...   \n",
       "Hawaiian Gardens        0.000026\n",
       "Chatsworth Reservoir    0.000026\n",
       "Ridge Route             0.000026\n",
       "Cudahy                  0.000026\n",
       "South Diamond Bar       0.000026\n",
       "Name: neighbourhood, Length: 264, dtype: float64"
      ]
     },
     "execution_count": 32,
     "metadata": {},
     "output_type": "execute_result"
    }
   ],
   "source": [
    "df['neighbourhood'].value_counts(normalize=True)"
   ]
  },
  {
   "cell_type": "code",
   "execution_count": 23,
   "metadata": {},
   "outputs": [
    {
     "data": {
      "text/plain": [
       "(38851, 2)"
      ]
     },
     "execution_count": 23,
     "metadata": {},
     "output_type": "execute_result"
    }
   ],
   "source": [
    "exp_nbh = df[['neighbourhood', 'price']]\n",
    "exp_nbh.shape"
   ]
  },
  {
   "cell_type": "code",
   "execution_count": 33,
   "metadata": {},
   "outputs": [
    {
     "data": {
      "text/plain": [
       "Index(['id', 'name', 'host_id', 'host_name', 'neighbourhood_group',\n",
       "       'neighbourhood', 'latitude', 'longitude', 'room_type', 'price',\n",
       "       'minimum_nights', 'number_of_reviews', 'last_review',\n",
       "       'reviews_per_month', 'calculated_host_listings_count',\n",
       "       'availability_365'],\n",
       "      dtype='object')"
      ]
     },
     "execution_count": 33,
     "metadata": {},
     "output_type": "execute_result"
    }
   ],
   "source": [
    "df.columns"
   ]
  },
  {
   "cell_type": "markdown",
   "metadata": {},
   "source": [
    "# Create Sample DataFrames, Aggregate Data, and Statistical Analysis"
   ]
  },
  {
   "cell_type": "code",
   "execution_count": 30,
   "metadata": {},
   "outputs": [
    {
     "data": {
      "text/html": [
       "<div>\n",
       "<style scoped>\n",
       "    .dataframe tbody tr th:only-of-type {\n",
       "        vertical-align: middle;\n",
       "    }\n",
       "\n",
       "    .dataframe tbody tr th {\n",
       "        vertical-align: top;\n",
       "    }\n",
       "\n",
       "    .dataframe thead th {\n",
       "        text-align: right;\n",
       "    }\n",
       "</style>\n",
       "<table border=\"1\" class=\"dataframe\">\n",
       "  <thead>\n",
       "    <tr style=\"text-align: right;\">\n",
       "      <th></th>\n",
       "      <th>price</th>\n",
       "    </tr>\n",
       "    <tr>\n",
       "      <th>neighbourhood</th>\n",
       "      <th></th>\n",
       "    </tr>\n",
       "  </thead>\n",
       "  <tbody>\n",
       "    <tr>\n",
       "      <th>Acton</th>\n",
       "      <td>109.800000</td>\n",
       "    </tr>\n",
       "    <tr>\n",
       "      <th>Adams-Normandie</th>\n",
       "      <td>95.780000</td>\n",
       "    </tr>\n",
       "    <tr>\n",
       "      <th>Agoura Hills</th>\n",
       "      <td>205.976744</td>\n",
       "    </tr>\n",
       "    <tr>\n",
       "      <th>Agua Dulce</th>\n",
       "      <td>161.384615</td>\n",
       "    </tr>\n",
       "    <tr>\n",
       "      <th>Alhambra</th>\n",
       "      <td>96.631420</td>\n",
       "    </tr>\n",
       "    <tr>\n",
       "      <th>...</th>\n",
       "      <td>...</td>\n",
       "    </tr>\n",
       "    <tr>\n",
       "      <th>Willowbrook</th>\n",
       "      <td>124.277778</td>\n",
       "    </tr>\n",
       "    <tr>\n",
       "      <th>Wilmington</th>\n",
       "      <td>63.029412</td>\n",
       "    </tr>\n",
       "    <tr>\n",
       "      <th>Windsor Square</th>\n",
       "      <td>485.608696</td>\n",
       "    </tr>\n",
       "    <tr>\n",
       "      <th>Winnetka</th>\n",
       "      <td>97.084337</td>\n",
       "    </tr>\n",
       "    <tr>\n",
       "      <th>Woodland Hills</th>\n",
       "      <td>213.500000</td>\n",
       "    </tr>\n",
       "  </tbody>\n",
       "</table>\n",
       "<p>264 rows × 1 columns</p>\n",
       "</div>"
      ],
      "text/plain": [
       "                      price\n",
       "neighbourhood              \n",
       "Acton            109.800000\n",
       "Adams-Normandie   95.780000\n",
       "Agoura Hills     205.976744\n",
       "Agua Dulce       161.384615\n",
       "Alhambra          96.631420\n",
       "...                     ...\n",
       "Willowbrook      124.277778\n",
       "Wilmington        63.029412\n",
       "Windsor Square   485.608696\n",
       "Winnetka          97.084337\n",
       "Woodland Hills   213.500000\n",
       "\n",
       "[264 rows x 1 columns]"
      ]
     },
     "execution_count": 30,
     "metadata": {},
     "output_type": "execute_result"
    }
   ],
   "source": [
    "avg_nbh_price = df.pivot_table(values='price', index='neighbourhood')\n",
    "avg_nbh_price"
   ]
  },
  {
   "cell_type": "code",
   "execution_count": 28,
   "metadata": {},
   "outputs": [
    {
     "data": {
      "text/html": [
       "<div>\n",
       "<style scoped>\n",
       "    .dataframe tbody tr th:only-of-type {\n",
       "        vertical-align: middle;\n",
       "    }\n",
       "\n",
       "    .dataframe tbody tr th {\n",
       "        vertical-align: top;\n",
       "    }\n",
       "\n",
       "    .dataframe thead tr th {\n",
       "        text-align: left;\n",
       "    }\n",
       "\n",
       "    .dataframe thead tr:last-of-type th {\n",
       "        text-align: right;\n",
       "    }\n",
       "</style>\n",
       "<table border=\"1\" class=\"dataframe\">\n",
       "  <thead>\n",
       "    <tr>\n",
       "      <th></th>\n",
       "      <th>amin</th>\n",
       "      <th>amax</th>\n",
       "      <th>mean</th>\n",
       "      <th>median</th>\n",
       "    </tr>\n",
       "    <tr>\n",
       "      <th></th>\n",
       "      <th>price</th>\n",
       "      <th>price</th>\n",
       "      <th>price</th>\n",
       "      <th>price</th>\n",
       "    </tr>\n",
       "    <tr>\n",
       "      <th>neighbourhood</th>\n",
       "      <th></th>\n",
       "      <th></th>\n",
       "      <th></th>\n",
       "      <th></th>\n",
       "    </tr>\n",
       "  </thead>\n",
       "  <tbody>\n",
       "    <tr>\n",
       "      <th>Acton</th>\n",
       "      <td>30</td>\n",
       "      <td>255</td>\n",
       "      <td>109.800000</td>\n",
       "      <td>95.0</td>\n",
       "    </tr>\n",
       "    <tr>\n",
       "      <th>Adams-Normandie</th>\n",
       "      <td>25</td>\n",
       "      <td>300</td>\n",
       "      <td>95.780000</td>\n",
       "      <td>61.0</td>\n",
       "    </tr>\n",
       "    <tr>\n",
       "      <th>Agoura Hills</th>\n",
       "      <td>40</td>\n",
       "      <td>1795</td>\n",
       "      <td>205.976744</td>\n",
       "      <td>80.0</td>\n",
       "    </tr>\n",
       "    <tr>\n",
       "      <th>Agua Dulce</th>\n",
       "      <td>55</td>\n",
       "      <td>750</td>\n",
       "      <td>161.384615</td>\n",
       "      <td>79.0</td>\n",
       "    </tr>\n",
       "    <tr>\n",
       "      <th>Alhambra</th>\n",
       "      <td>10</td>\n",
       "      <td>899</td>\n",
       "      <td>96.631420</td>\n",
       "      <td>68.0</td>\n",
       "    </tr>\n",
       "    <tr>\n",
       "      <th>...</th>\n",
       "      <td>...</td>\n",
       "      <td>...</td>\n",
       "      <td>...</td>\n",
       "      <td>...</td>\n",
       "    </tr>\n",
       "    <tr>\n",
       "      <th>Willowbrook</th>\n",
       "      <td>25</td>\n",
       "      <td>350</td>\n",
       "      <td>124.277778</td>\n",
       "      <td>80.0</td>\n",
       "    </tr>\n",
       "    <tr>\n",
       "      <th>Wilmington</th>\n",
       "      <td>45</td>\n",
       "      <td>139</td>\n",
       "      <td>63.029412</td>\n",
       "      <td>61.0</td>\n",
       "    </tr>\n",
       "    <tr>\n",
       "      <th>Windsor Square</th>\n",
       "      <td>34</td>\n",
       "      <td>10000</td>\n",
       "      <td>485.608696</td>\n",
       "      <td>112.0</td>\n",
       "    </tr>\n",
       "    <tr>\n",
       "      <th>Winnetka</th>\n",
       "      <td>29</td>\n",
       "      <td>276</td>\n",
       "      <td>97.084337</td>\n",
       "      <td>79.0</td>\n",
       "    </tr>\n",
       "    <tr>\n",
       "      <th>Woodland Hills</th>\n",
       "      <td>30</td>\n",
       "      <td>9000</td>\n",
       "      <td>213.500000</td>\n",
       "      <td>89.5</td>\n",
       "    </tr>\n",
       "  </tbody>\n",
       "</table>\n",
       "<p>264 rows × 4 columns</p>\n",
       "</div>"
      ],
      "text/plain": [
       "                 amin   amax        mean median\n",
       "                price  price       price  price\n",
       "neighbourhood                                  \n",
       "Acton              30    255  109.800000   95.0\n",
       "Adams-Normandie    25    300   95.780000   61.0\n",
       "Agoura Hills       40   1795  205.976744   80.0\n",
       "Agua Dulce         55    750  161.384615   79.0\n",
       "Alhambra           10    899   96.631420   68.0\n",
       "...               ...    ...         ...    ...\n",
       "Willowbrook        25    350  124.277778   80.0\n",
       "Wilmington         45    139   63.029412   61.0\n",
       "Windsor Square     34  10000  485.608696  112.0\n",
       "Winnetka           29    276   97.084337   79.0\n",
       "Woodland Hills     30   9000  213.500000   89.5\n",
       "\n",
       "[264 rows x 4 columns]"
      ]
     },
     "execution_count": 28,
     "metadata": {},
     "output_type": "execute_result"
    }
   ],
   "source": [
    "avg_nbh_stats = df.pivot_table(values='price', index='neighbourhood', \n",
    "                               aggfunc=[np.min, np.max, np.mean, np.median])\n",
    "avg_nbh_stats"
   ]
  },
  {
   "cell_type": "code",
   "execution_count": null,
   "metadata": {},
   "outputs": [],
   "source": []
  }
 ],
 "metadata": {
  "kernelspec": {
   "display_name": "Python 3",
   "language": "python",
   "name": "python3"
  },
  "language_info": {
   "codemirror_mode": {
    "name": "ipython",
    "version": 3
   },
   "file_extension": ".py",
   "mimetype": "text/x-python",
   "name": "python",
   "nbconvert_exporter": "python",
   "pygments_lexer": "ipython3",
   "version": "3.6.4"
  }
 },
 "nbformat": 4,
 "nbformat_minor": 2
}
