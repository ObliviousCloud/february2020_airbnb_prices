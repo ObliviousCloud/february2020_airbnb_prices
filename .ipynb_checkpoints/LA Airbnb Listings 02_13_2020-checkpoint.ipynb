{
 "cells": [
  {
   "cell_type": "code",
   "execution_count": 10,
   "metadata": {},
   "outputs": [],
   "source": [
    "import pandas as pd\n",
    "import numpy as np\n",
    "import matplotlib.pyplot as plt\n",
    "import seaborn as sns\n",
    "import statsmodels.api as sm\n",
    "from scipy import stats"
   ]
  },
  {
   "cell_type": "markdown",
   "metadata": {},
   "source": [
    "# Pre C-19 listings - 2/13/2020"
   ]
  },
  {
   "cell_type": "code",
   "execution_count": 11,
   "metadata": {},
   "outputs": [],
   "source": [
    "csv = 'la_airbnb_02_13_2020_listings.csv'"
   ]
  },
  {
   "cell_type": "code",
   "execution_count": 12,
   "metadata": {},
   "outputs": [],
   "source": [
    "df = pd.read_csv(csv)"
   ]
  },
  {
   "cell_type": "code",
   "execution_count": 13,
   "metadata": {},
   "outputs": [
    {
     "data": {
      "text/html": [
       "<div>\n",
       "<style scoped>\n",
       "    .dataframe tbody tr th:only-of-type {\n",
       "        vertical-align: middle;\n",
       "    }\n",
       "\n",
       "    .dataframe tbody tr th {\n",
       "        vertical-align: top;\n",
       "    }\n",
       "\n",
       "    .dataframe thead th {\n",
       "        text-align: right;\n",
       "    }\n",
       "</style>\n",
       "<table border=\"1\" class=\"dataframe\">\n",
       "  <thead>\n",
       "    <tr style=\"text-align: right;\">\n",
       "      <th></th>\n",
       "      <th>id</th>\n",
       "      <th>name</th>\n",
       "      <th>host_id</th>\n",
       "      <th>host_name</th>\n",
       "      <th>neighbourhood_group</th>\n",
       "      <th>neighbourhood</th>\n",
       "      <th>latitude</th>\n",
       "      <th>longitude</th>\n",
       "      <th>room_type</th>\n",
       "      <th>price</th>\n",
       "      <th>minimum_nights</th>\n",
       "      <th>number_of_reviews</th>\n",
       "      <th>last_review</th>\n",
       "      <th>reviews_per_month</th>\n",
       "      <th>calculated_host_listings_count</th>\n",
       "      <th>availability_365</th>\n",
       "    </tr>\n",
       "  </thead>\n",
       "  <tbody>\n",
       "    <tr>\n",
       "      <th>0</th>\n",
       "      <td>109</td>\n",
       "      <td>Amazing bright elegant condo park front *UPGRA...</td>\n",
       "      <td>521</td>\n",
       "      <td>Paolo</td>\n",
       "      <td>Other Cities</td>\n",
       "      <td>Culver City</td>\n",
       "      <td>33.98209</td>\n",
       "      <td>-118.38494</td>\n",
       "      <td>Entire home/apt</td>\n",
       "      <td>122</td>\n",
       "      <td>30</td>\n",
       "      <td>2</td>\n",
       "      <td>2016-05-15</td>\n",
       "      <td>0.02</td>\n",
       "      <td>1</td>\n",
       "      <td>0</td>\n",
       "    </tr>\n",
       "    <tr>\n",
       "      <th>1</th>\n",
       "      <td>344</td>\n",
       "      <td>Family perfect;Pool;Near Studios!</td>\n",
       "      <td>767</td>\n",
       "      <td>Melissa</td>\n",
       "      <td>Other Cities</td>\n",
       "      <td>Burbank</td>\n",
       "      <td>34.16562</td>\n",
       "      <td>-118.33458</td>\n",
       "      <td>Entire home/apt</td>\n",
       "      <td>168</td>\n",
       "      <td>2</td>\n",
       "      <td>8</td>\n",
       "      <td>2019-10-19</td>\n",
       "      <td>0.18</td>\n",
       "      <td>1</td>\n",
       "      <td>119</td>\n",
       "    </tr>\n",
       "    <tr>\n",
       "      <th>2</th>\n",
       "      <td>2708</td>\n",
       "      <td>Mirrored Mini-Suite with Fireplace - W. Hollywood</td>\n",
       "      <td>3008</td>\n",
       "      <td>Chas.</td>\n",
       "      <td>City of Los Angeles</td>\n",
       "      <td>Hollywood</td>\n",
       "      <td>34.09768</td>\n",
       "      <td>-118.34602</td>\n",
       "      <td>Private room</td>\n",
       "      <td>79</td>\n",
       "      <td>30</td>\n",
       "      <td>23</td>\n",
       "      <td>2019-12-12</td>\n",
       "      <td>0.33</td>\n",
       "      <td>2</td>\n",
       "      <td>304</td>\n",
       "    </tr>\n",
       "    <tr>\n",
       "      <th>3</th>\n",
       "      <td>2732</td>\n",
       "      <td>Zen Life at the Beach</td>\n",
       "      <td>3041</td>\n",
       "      <td>Yoga Priestess</td>\n",
       "      <td>Other Cities</td>\n",
       "      <td>Santa Monica</td>\n",
       "      <td>34.00475</td>\n",
       "      <td>-118.48127</td>\n",
       "      <td>Private room</td>\n",
       "      <td>140</td>\n",
       "      <td>1</td>\n",
       "      <td>21</td>\n",
       "      <td>2019-12-27</td>\n",
       "      <td>0.20</td>\n",
       "      <td>2</td>\n",
       "      <td>337</td>\n",
       "    </tr>\n",
       "    <tr>\n",
       "      <th>4</th>\n",
       "      <td>2864</td>\n",
       "      <td>*Upscale Professional Home with Beautiful Studio*</td>\n",
       "      <td>3207</td>\n",
       "      <td>Bernadine</td>\n",
       "      <td>Other Cities</td>\n",
       "      <td>Bellflower</td>\n",
       "      <td>33.87619</td>\n",
       "      <td>-118.11397</td>\n",
       "      <td>Entire home/apt</td>\n",
       "      <td>80</td>\n",
       "      <td>2</td>\n",
       "      <td>0</td>\n",
       "      <td>NaN</td>\n",
       "      <td>NaN</td>\n",
       "      <td>1</td>\n",
       "      <td>0</td>\n",
       "    </tr>\n",
       "  </tbody>\n",
       "</table>\n",
       "</div>"
      ],
      "text/plain": [
       "     id                                               name  host_id  \\\n",
       "0   109  Amazing bright elegant condo park front *UPGRA...      521   \n",
       "1   344                  Family perfect;Pool;Near Studios!      767   \n",
       "2  2708  Mirrored Mini-Suite with Fireplace - W. Hollywood     3008   \n",
       "3  2732                              Zen Life at the Beach     3041   \n",
       "4  2864  *Upscale Professional Home with Beautiful Studio*     3207   \n",
       "\n",
       "        host_name  neighbourhood_group neighbourhood  latitude  longitude  \\\n",
       "0           Paolo         Other Cities   Culver City  33.98209 -118.38494   \n",
       "1         Melissa         Other Cities       Burbank  34.16562 -118.33458   \n",
       "2           Chas.  City of Los Angeles     Hollywood  34.09768 -118.34602   \n",
       "3  Yoga Priestess         Other Cities  Santa Monica  34.00475 -118.48127   \n",
       "4       Bernadine         Other Cities    Bellflower  33.87619 -118.11397   \n",
       "\n",
       "         room_type  price  minimum_nights  number_of_reviews last_review  \\\n",
       "0  Entire home/apt    122              30                  2  2016-05-15   \n",
       "1  Entire home/apt    168               2                  8  2019-10-19   \n",
       "2     Private room     79              30                 23  2019-12-12   \n",
       "3     Private room    140               1                 21  2019-12-27   \n",
       "4  Entire home/apt     80               2                  0         NaN   \n",
       "\n",
       "   reviews_per_month  calculated_host_listings_count  availability_365  \n",
       "0               0.02                               1                 0  \n",
       "1               0.18                               1               119  \n",
       "2               0.33                               2               304  \n",
       "3               0.20                               2               337  \n",
       "4                NaN                               1                 0  "
      ]
     },
     "execution_count": 13,
     "metadata": {},
     "output_type": "execute_result"
    }
   ],
   "source": [
    "df.head()"
   ]
  },
  {
   "cell_type": "code",
   "execution_count": 14,
   "metadata": {},
   "outputs": [
    {
     "name": "stdout",
     "output_type": "stream",
     "text": [
      "<class 'pandas.core.frame.DataFrame'>\n",
      "RangeIndex: 38851 entries, 0 to 38850\n",
      "Data columns (total 16 columns):\n",
      " #   Column                          Non-Null Count  Dtype  \n",
      "---  ------                          --------------  -----  \n",
      " 0   id                              38851 non-null  int64  \n",
      " 1   name                            38849 non-null  object \n",
      " 2   host_id                         38851 non-null  int64  \n",
      " 3   host_name                       38849 non-null  object \n",
      " 4   neighbourhood_group             38851 non-null  object \n",
      " 5   neighbourhood                   38851 non-null  object \n",
      " 6   latitude                        38851 non-null  float64\n",
      " 7   longitude                       38851 non-null  float64\n",
      " 8   room_type                       38851 non-null  object \n",
      " 9   price                           38851 non-null  int64  \n",
      " 10  minimum_nights                  38851 non-null  int64  \n",
      " 11  number_of_reviews               38851 non-null  int64  \n",
      " 12  last_review                     31171 non-null  object \n",
      " 13  reviews_per_month               31171 non-null  float64\n",
      " 14  calculated_host_listings_count  38851 non-null  int64  \n",
      " 15  availability_365                38851 non-null  int64  \n",
      "dtypes: float64(3), int64(7), object(6)\n",
      "memory usage: 4.7+ MB\n"
     ]
    }
   ],
   "source": [
    "df.info()"
   ]
  },
  {
   "cell_type": "code",
   "execution_count": 15,
   "metadata": {},
   "outputs": [
    {
     "data": {
      "text/plain": [
       "(38851, 16)"
      ]
     },
     "execution_count": 15,
     "metadata": {},
     "output_type": "execute_result"
    }
   ],
   "source": [
    "df.shape"
   ]
  },
  {
   "cell_type": "code",
   "execution_count": 16,
   "metadata": {},
   "outputs": [
    {
     "data": {
      "text/plain": [
       "Index(['id', 'name', 'host_id', 'host_name', 'neighbourhood_group',\n",
       "       'neighbourhood', 'latitude', 'longitude', 'room_type', 'price',\n",
       "       'minimum_nights', 'number_of_reviews', 'last_review',\n",
       "       'reviews_per_month', 'calculated_host_listings_count',\n",
       "       'availability_365'],\n",
       "      dtype='object')"
      ]
     },
     "execution_count": 16,
     "metadata": {},
     "output_type": "execute_result"
    }
   ],
   "source": [
    "df.columns"
   ]
  },
  {
   "cell_type": "code",
   "execution_count": 17,
   "metadata": {},
   "outputs": [
    {
     "data": {
      "text/plain": [
       "City of Los Angeles     22890\n",
       "Other Cities            13093\n",
       "Unincorporated Areas     2868\n",
       "Name: neighbourhood_group, dtype: int64"
      ]
     },
     "execution_count": 17,
     "metadata": {},
     "output_type": "execute_result"
    }
   ],
   "source": [
    "df['neighbourhood_group'].value_counts()"
   ]
  },
  {
   "cell_type": "code",
   "execution_count": 18,
   "metadata": {
    "scrolled": true
   },
   "outputs": [
    {
     "data": {
      "text/plain": [
       "Venice                  1971\n",
       "Hollywood               1931\n",
       "Long Beach              1793\n",
       "Downtown                1403\n",
       "Santa Monica            1298\n",
       "                        ... \n",
       "South Diamond Bar          1\n",
       "Hawaiian Gardens           1\n",
       "Cudahy                     1\n",
       "Ridge Route                1\n",
       "Chatsworth Reservoir       1\n",
       "Name: neighbourhood, Length: 264, dtype: int64"
      ]
     },
     "execution_count": 18,
     "metadata": {},
     "output_type": "execute_result"
    }
   ],
   "source": [
    "df['neighbourhood'].value_counts(sort=True)"
   ]
  },
  {
   "cell_type": "code",
   "execution_count": 19,
   "metadata": {},
   "outputs": [
    {
     "data": {
      "text/plain": [
       "Venice                  0.050732\n",
       "Hollywood               0.049703\n",
       "Long Beach              0.046151\n",
       "Downtown                0.036112\n",
       "Santa Monica            0.033410\n",
       "                          ...   \n",
       "South Diamond Bar       0.000026\n",
       "Hawaiian Gardens        0.000026\n",
       "Cudahy                  0.000026\n",
       "Ridge Route             0.000026\n",
       "Chatsworth Reservoir    0.000026\n",
       "Name: neighbourhood, Length: 264, dtype: float64"
      ]
     },
     "execution_count": 19,
     "metadata": {},
     "output_type": "execute_result"
    }
   ],
   "source": [
    "df['neighbourhood'].value_counts(normalize=True)"
   ]
  },
  {
   "cell_type": "code",
   "execution_count": 20,
   "metadata": {},
   "outputs": [
    {
     "data": {
      "text/plain": [
       "(38851, 2)"
      ]
     },
     "execution_count": 20,
     "metadata": {},
     "output_type": "execute_result"
    }
   ],
   "source": [
    "exp_nbh = df[['neighbourhood', 'price']]\n",
    "exp_nbh.shape"
   ]
  },
  {
   "cell_type": "code",
   "execution_count": 21,
   "metadata": {},
   "outputs": [
    {
     "data": {
      "text/plain": [
       "Index(['id', 'name', 'host_id', 'host_name', 'neighbourhood_group',\n",
       "       'neighbourhood', 'latitude', 'longitude', 'room_type', 'price',\n",
       "       'minimum_nights', 'number_of_reviews', 'last_review',\n",
       "       'reviews_per_month', 'calculated_host_listings_count',\n",
       "       'availability_365'],\n",
       "      dtype='object')"
      ]
     },
     "execution_count": 21,
     "metadata": {},
     "output_type": "execute_result"
    }
   ],
   "source": [
    "df.columns"
   ]
  },
  {
   "cell_type": "code",
   "execution_count": 22,
   "metadata": {},
   "outputs": [
    {
     "data": {
      "text/plain": [
       "16"
      ]
     },
     "execution_count": 22,
     "metadata": {},
     "output_type": "execute_result"
    }
   ],
   "source": [
    "len(df.columns)"
   ]
  },
  {
   "cell_type": "code",
   "execution_count": 46,
   "metadata": {},
   "outputs": [
    {
     "data": {
      "text/plain": [
       "id                                   0\n",
       "name                                 2\n",
       "host_id                              0\n",
       "host_name                            2\n",
       "neighbourhood_group                  0\n",
       "neighbourhood                        0\n",
       "latitude                             0\n",
       "longitude                            0\n",
       "room_type                            0\n",
       "price                                0\n",
       "minimum_nights                       0\n",
       "number_of_reviews                    0\n",
       "last_review                       7680\n",
       "reviews_per_month                 7680\n",
       "calculated_host_listings_count       0\n",
       "availability_365                     0\n",
       "dtype: int64"
      ]
     },
     "execution_count": 46,
     "metadata": {},
     "output_type": "execute_result"
    }
   ],
   "source": [
    "df.isnull().sum()"
   ]
  },
  {
   "cell_type": "code",
   "execution_count": 117,
   "metadata": {},
   "outputs": [],
   "source": [
    "df.fillna({'name': 'no_name'}, inplace=True)\n",
    "df.fillna({'host_name': 'no_name'}, inplace=True)\n",
    "df.fillna({'last_review': 'not_reviewed'}, inplace=True)\n",
    "df.fillna({'reviews_per_month': 0}, inplace=True)"
   ]
  },
  {
   "cell_type": "code",
   "execution_count": 118,
   "metadata": {},
   "outputs": [
    {
     "data": {
      "text/plain": [
       "id                                0\n",
       "name                              0\n",
       "host_id                           0\n",
       "host_name                         0\n",
       "neighbourhood_group               0\n",
       "neighbourhood                     0\n",
       "latitude                          0\n",
       "longitude                         0\n",
       "room_type                         0\n",
       "price                             0\n",
       "minimum_nights                    0\n",
       "number_of_reviews                 0\n",
       "last_review                       0\n",
       "reviews_per_month                 0\n",
       "calculated_host_listings_count    0\n",
       "availability_365                  0\n",
       "dtype: int64"
      ]
     },
     "execution_count": 118,
     "metadata": {},
     "output_type": "execute_result"
    }
   ],
   "source": [
    "df.isnull().sum()"
   ]
  },
  {
   "cell_type": "code",
   "execution_count": 47,
   "metadata": {},
   "outputs": [
    {
     "data": {
      "text/plain": [
       "count    38851.000000\n",
       "mean       226.858742\n",
       "std        655.188690\n",
       "min          0.000000\n",
       "25%         70.000000\n",
       "50%        110.000000\n",
       "75%        190.000000\n",
       "max      22000.000000\n",
       "Name: price, dtype: float64"
      ]
     },
     "execution_count": 47,
     "metadata": {},
     "output_type": "execute_result"
    }
   ],
   "source": [
    "df['price'].describe()"
   ]
  },
  {
   "cell_type": "code",
   "execution_count": 51,
   "metadata": {},
   "outputs": [
    {
     "data": {
      "image/png": "[encoded data removed]",
      "text/plain": [
       "<Figure size 432x288 with 1 Axes>"
      ]
     },
     "metadata": {
      "needs_background": "light"
     },
     "output_type": "display_data"
    }
   ],
   "source": [
    "#Plot distribution or price\n",
    "hist_price = df['price'].hist()\n",
    "#We can see that most listings are below $1000"
   ]
  },
  {
   "cell_type": "code",
   "execution_count": 53,
   "metadata": {},
   "outputs": [
    {
     "data": {
      "image/png": "[encoded data removed]",
      "text/plain": [
       "<Figure size 432x288 with 1 Axes>"
      ]
     },
     "metadata": {
      "needs_background": "light"
     },
     "output_type": "display_data"
    }
   ],
   "source": [
    "#Distribution of of price below $1000\n",
    "hist_price1 = df['price'][df['price']<1000].hist()"
   ]
  },
  {
   "cell_type": "code",
   "execution_count": 121,
   "metadata": {},
   "outputs": [
    {
     "data": {
      "text/plain": [
       "963"
      ]
     },
     "execution_count": 121,
     "metadata": {},
     "output_type": "execute_result"
    }
   ],
   "source": [
    "#Lets find out how many listings are about 1000\n",
    "len(df[df['price']>1000])\n",
    "#For the analysis, lets treat these as outliers and remove them."
   ]
  },
  {
   "cell_type": "markdown",
   "metadata": {},
   "source": [
    "# Analysis of AirBnB listings below $300"
   ]
  },
  {
   "cell_type": "code",
   "execution_count": 122,
   "metadata": {},
   "outputs": [
    {
     "data": {
      "text/plain": [
       "33995"
      ]
     },
     "execution_count": 122,
     "metadata": {},
     "output_type": "execute_result"
    }
   ],
   "source": [
    "#Lets set a threshold of $300\n",
    "feb = df[df['price']<300]\n",
    "len(feb)"
   ]
  },
  {
   "cell_type": "code",
   "execution_count": 123,
   "metadata": {},
   "outputs": [
    {
     "data": {
      "image/png": "[encoded data removed]",
      "text/plain": [
       "<Figure size 432x288 with 1 Axes>"
      ]
     },
     "metadata": {
      "needs_background": "light"
     },
     "output_type": "display_data"
    }
   ],
   "source": [
    "feb_hist = feb['price'][feb['price']<300].hist()"
   ]
  },
  {
   "cell_type": "code",
   "execution_count": 124,
   "metadata": {},
   "outputs": [
    {
     "data": {
      "text/plain": [
       "count    33995.000000\n",
       "mean       113.350051\n",
       "std         64.053370\n",
       "min          0.000000\n",
       "25%         65.000000\n",
       "50%         99.000000\n",
       "75%        150.000000\n",
       "max        299.000000\n",
       "Name: price, dtype: float64"
      ]
     },
     "execution_count": 124,
     "metadata": {},
     "output_type": "execute_result"
    }
   ],
   "source": [
    "feb['price'].describe()"
   ]
  },
  {
   "cell_type": "code",
   "execution_count": 125,
   "metadata": {},
   "outputs": [
    {
     "data": {
      "text/plain": [
       "Hollywood               1782\n",
       "Long Beach              1687\n",
       "Venice                  1535\n",
       "Downtown                1224\n",
       "Santa Monica            1135\n",
       "                        ... \n",
       "Hawaiian Gardens           1\n",
       "Chatsworth Reservoir       1\n",
       "Lake Hughes                1\n",
       "Cudahy                     1\n",
       "South Diamond Bar          1\n",
       "Name: neighbourhood, Length: 264, dtype: int64"
      ]
     },
     "execution_count": 125,
     "metadata": {},
     "output_type": "execute_result"
    }
   ],
   "source": [
    "feb['neighbourhood'].value_counts()"
   ]
  },
  {
   "cell_type": "code",
   "execution_count": 91,
   "metadata": {},
   "outputs": [
    {
     "data": {
      "text/plain": [
       "neighbourhood\n",
       "Acton              109.800000\n",
       "Adams-Normandie     82.744681\n",
       "Agoura Hills       107.756757\n",
       "Agua Dulce          92.636364\n",
       "Alhambra            87.863777\n",
       "                      ...    \n",
       "Willowbrook        111.000000\n",
       "Wilmington          63.029412\n",
       "Windsor Square     112.459459\n",
       "Winnetka            97.084337\n",
       "Woodland Hills      99.115672\n",
       "Name: price, Length: 264, dtype: float64"
      ]
     },
     "execution_count": 91,
     "metadata": {},
     "output_type": "execute_result"
    }
   ],
   "source": [
    "nb_avg_prices = feb.groupby('neighbourhood')['price'].mean()\n",
    "nb_avg_prices"
   ]
  },
  {
   "cell_type": "code",
   "execution_count": 127,
   "metadata": {},
   "outputs": [
    {
     "data": {
      "text/plain": [
       "207"
      ]
     },
     "execution_count": 127,
     "metadata": {},
     "output_type": "execute_result"
    }
   ],
   "source": [
    "#What is the max amount of listings one host has\n",
    "host_id = feb.groupby(['host_id'])\n",
    "max(host_id.size())"
   ]
  },
  {
   "cell_type": "code",
   "execution_count": 138,
   "metadata": {},
   "outputs": [
    {
     "data": {
      "text/plain": [
       "1      15603\n",
       "2       2477\n",
       "3        926\n",
       "4        456\n",
       "5        229\n",
       "6        172\n",
       "7         80\n",
       "8         65\n",
       "9         58\n",
       "10        44\n",
       "12        25\n",
       "11        20\n",
       "13        20\n",
       "14        18\n",
       "15        15\n",
       "18        13\n",
       "19         9\n",
       "16         8\n",
       "20         7\n",
       "17         7\n",
       "23         7\n",
       "41         6\n",
       "21         5\n",
       "24         4\n",
       "32         4\n",
       "30         4\n",
       "28         4\n",
       "31         2\n",
       "37         2\n",
       "25         2\n",
       "33         1\n",
       "49         1\n",
       "67         1\n",
       "66         1\n",
       "29         1\n",
       "35         1\n",
       "51         1\n",
       "61         1\n",
       "68         1\n",
       "59         1\n",
       "36         1\n",
       "27         1\n",
       "53         1\n",
       "74         1\n",
       "22         1\n",
       "38         1\n",
       "54         1\n",
       "47         1\n",
       "39         1\n",
       "26         1\n",
       "200        1\n",
       "73         1\n",
       "207        1\n",
       "dtype: int64"
      ]
     },
     "execution_count": 138,
     "metadata": {},
     "output_type": "execute_result"
    }
   ],
   "source": [
    "host_id.size().value_counts()"
   ]
  },
  {
   "cell_type": "code",
   "execution_count": 145,
   "metadata": {},
   "outputs": [
    {
     "data": {
      "text/plain": [
       "48005494"
      ]
     },
     "execution_count": 145,
     "metadata": {},
     "output_type": "execute_result"
    }
   ],
   "source": [
    "#Get the host_id of the host with the maximum listings\n",
    "id_counts = feb['host_id'].value_counts()\n",
    "max_host = id_counts.idxmax()\n",
    "max_host"
   ]
  },
  {
   "cell_type": "code",
   "execution_count": 148,
   "metadata": {},
   "outputs": [
    {
     "data": {
      "text/html": [
       "<div>\n",
       "<style scoped>\n",
       "    .dataframe tbody tr th:only-of-type {\n",
       "        vertical-align: middle;\n",
       "    }\n",
       "\n",
       "    .dataframe tbody tr th {\n",
       "        vertical-align: top;\n",
       "    }\n",
       "\n",
       "    .dataframe thead th {\n",
       "        text-align: right;\n",
       "    }\n",
       "</style>\n",
       "<table border=\"1\" class=\"dataframe\">\n",
       "  <thead>\n",
       "    <tr style=\"text-align: right;\">\n",
       "      <th></th>\n",
       "      <th>id</th>\n",
       "      <th>name</th>\n",
       "      <th>host_id</th>\n",
       "      <th>host_name</th>\n",
       "      <th>neighbourhood_group</th>\n",
       "      <th>neighbourhood</th>\n",
       "      <th>latitude</th>\n",
       "      <th>longitude</th>\n",
       "      <th>room_type</th>\n",
       "      <th>price</th>\n",
       "      <th>minimum_nights</th>\n",
       "      <th>number_of_reviews</th>\n",
       "      <th>last_review</th>\n",
       "      <th>reviews_per_month</th>\n",
       "      <th>calculated_host_listings_count</th>\n",
       "      <th>availability_365</th>\n",
       "    </tr>\n",
       "  </thead>\n",
       "  <tbody>\n",
       "    <tr>\n",
       "      <th>19321</th>\n",
       "      <td>25320272</td>\n",
       "      <td>1 Bedroom Condo in Mar Vista</td>\n",
       "      <td>48005494</td>\n",
       "      <td>Zeus</td>\n",
       "      <td>City of Los Angeles</td>\n",
       "      <td>Mar Vista</td>\n",
       "      <td>33.99983</td>\n",
       "      <td>-118.42288</td>\n",
       "      <td>Entire home/apt</td>\n",
       "      <td>97</td>\n",
       "      <td>30</td>\n",
       "      <td>3</td>\n",
       "      <td>2019-07-22</td>\n",
       "      <td>0.31</td>\n",
       "      <td>215</td>\n",
       "      <td>55</td>\n",
       "    </tr>\n",
       "    <tr>\n",
       "      <th>19482</th>\n",
       "      <td>25543236</td>\n",
       "      <td>2 Bedroom Townhouse in Silicon Beach</td>\n",
       "      <td>48005494</td>\n",
       "      <td>Zeus</td>\n",
       "      <td>City of Los Angeles</td>\n",
       "      <td>Venice</td>\n",
       "      <td>33.97897</td>\n",
       "      <td>-118.46243</td>\n",
       "      <td>Entire home/apt</td>\n",
       "      <td>271</td>\n",
       "      <td>31</td>\n",
       "      <td>5</td>\n",
       "      <td>2018-12-27</td>\n",
       "      <td>0.26</td>\n",
       "      <td>215</td>\n",
       "      <td>319</td>\n",
       "    </tr>\n",
       "    <tr>\n",
       "      <th>19483</th>\n",
       "      <td>25545020</td>\n",
       "      <td>Conveniently Located LA Studio</td>\n",
       "      <td>48005494</td>\n",
       "      <td>Zeus</td>\n",
       "      <td>City of Los Angeles</td>\n",
       "      <td>Mar Vista</td>\n",
       "      <td>34.00391</td>\n",
       "      <td>-118.43505</td>\n",
       "      <td>Entire home/apt</td>\n",
       "      <td>121</td>\n",
       "      <td>30</td>\n",
       "      <td>1</td>\n",
       "      <td>2018-10-17</td>\n",
       "      <td>0.06</td>\n",
       "      <td>215</td>\n",
       "      <td>0</td>\n",
       "    </tr>\n",
       "    <tr>\n",
       "      <th>19484</th>\n",
       "      <td>25545539</td>\n",
       "      <td>Santa Monica 2 Bedroom Apt Near (Hidden by Air...</td>\n",
       "      <td>48005494</td>\n",
       "      <td>Zeus</td>\n",
       "      <td>Other Cities</td>\n",
       "      <td>Santa Monica</td>\n",
       "      <td>34.02784</td>\n",
       "      <td>-118.49373</td>\n",
       "      <td>Entire home/apt</td>\n",
       "      <td>256</td>\n",
       "      <td>31</td>\n",
       "      <td>0</td>\n",
       "      <td>not_reviewed</td>\n",
       "      <td>0.00</td>\n",
       "      <td>215</td>\n",
       "      <td>95</td>\n",
       "    </tr>\n",
       "    <tr>\n",
       "      <th>19486</th>\n",
       "      <td>25545883</td>\n",
       "      <td>Santa Monica 2 Bedroom Apt Near YouTube</td>\n",
       "      <td>48005494</td>\n",
       "      <td>Zeus</td>\n",
       "      <td>Other Cities</td>\n",
       "      <td>Santa Monica</td>\n",
       "      <td>34.02692</td>\n",
       "      <td>-118.49276</td>\n",
       "      <td>Entire home/apt</td>\n",
       "      <td>243</td>\n",
       "      <td>31</td>\n",
       "      <td>3</td>\n",
       "      <td>2019-10-21</td>\n",
       "      <td>0.47</td>\n",
       "      <td>215</td>\n",
       "      <td>41</td>\n",
       "    </tr>\n",
       "  </tbody>\n",
       "</table>\n",
       "</div>"
      ],
      "text/plain": [
       "             id                                               name   host_id  \\\n",
       "19321  25320272                       1 Bedroom Condo in Mar Vista  48005494   \n",
       "19482  25543236               2 Bedroom Townhouse in Silicon Beach  48005494   \n",
       "19483  25545020                     Conveniently Located LA Studio  48005494   \n",
       "19484  25545539  Santa Monica 2 Bedroom Apt Near (Hidden by Air...  48005494   \n",
       "19486  25545883            Santa Monica 2 Bedroom Apt Near YouTube  48005494   \n",
       "\n",
       "      host_name  neighbourhood_group neighbourhood  latitude  longitude  \\\n",
       "19321      Zeus  City of Los Angeles     Mar Vista  33.99983 -118.42288   \n",
       "19482      Zeus  City of Los Angeles        Venice  33.97897 -118.46243   \n",
       "19483      Zeus  City of Los Angeles     Mar Vista  34.00391 -118.43505   \n",
       "19484      Zeus         Other Cities  Santa Monica  34.02784 -118.49373   \n",
       "19486      Zeus         Other Cities  Santa Monica  34.02692 -118.49276   \n",
       "\n",
       "             room_type  price  minimum_nights  number_of_reviews  \\\n",
       "19321  Entire home/apt     97              30                  3   \n",
       "19482  Entire home/apt    271              31                  5   \n",
       "19483  Entire home/apt    121              30                  1   \n",
       "19484  Entire home/apt    256              31                  0   \n",
       "19486  Entire home/apt    243              31                  3   \n",
       "\n",
       "        last_review  reviews_per_month  calculated_host_listings_count  \\\n",
       "19321    2019-07-22               0.31                             215   \n",
       "19482    2018-12-27               0.26                             215   \n",
       "19483    2018-10-17               0.06                             215   \n",
       "19484  not_reviewed               0.00                             215   \n",
       "19486    2019-10-21               0.47                             215   \n",
       "\n",
       "       availability_365  \n",
       "19321                55  \n",
       "19482               319  \n",
       "19483                 0  \n",
       "19484                95  \n",
       "19486                41  "
      ]
     },
     "execution_count": 148,
     "metadata": {},
     "output_type": "execute_result"
    }
   ],
   "source": [
    "#What are the listings of host_id '48005494'\n",
    "host_max = feb[feb['host_id']==48005494]\n",
    "host_max.head()"
   ]
  },
  {
   "cell_type": "code",
   "execution_count": 154,
   "metadata": {},
   "outputs": [
    {
     "data": {
      "text/plain": [
       "count    207.000000\n",
       "mean     185.661836\n",
       "std       44.177616\n",
       "min       97.000000\n",
       "25%      148.000000\n",
       "50%      179.000000\n",
       "75%      220.000000\n",
       "max      287.000000\n",
       "Name: price, dtype: float64"
      ]
     },
     "execution_count": 154,
     "metadata": {},
     "output_type": "execute_result"
    }
   ],
   "source": [
    "host_max['price'].describe()"
   ]
  },
  {
   "cell_type": "code",
   "execution_count": 151,
   "metadata": {},
   "outputs": [
    {
     "data": {
      "text/plain": [
       "Santa Monica              28\n",
       "Glendale                  25\n",
       "Downtown                  17\n",
       "Pasadena                  17\n",
       "Venice                    11\n",
       "Torrance                  11\n",
       "Sawtelle                   9\n",
       "Del Rey                    8\n",
       "Mar Vista                  6\n",
       "East Hollywood             6\n",
       "Palms                      6\n",
       "Mid-Wilshire               6\n",
       "Beverly Hills              5\n",
       "Westchester                4\n",
       "Redondo Beach              4\n",
       "West Hollywood             4\n",
       "North Hollywood            3\n",
       "Eagle Rock                 3\n",
       "Brentwood                  3\n",
       "Beverly Grove              3\n",
       "Burbank                    3\n",
       "Manhattan Beach            3\n",
       "Mid-City                   2\n",
       "Hollywood                  2\n",
       "Playa Vista                2\n",
       "Baldwin Hills/Crenshaw     2\n",
       "Toluca Lake                2\n",
       "Hollywood Hills            2\n",
       "Del Aire                   2\n",
       "Playa del Rey              1\n",
       "Marina del Rey             1\n",
       "Cheviot Hills              1\n",
       "San Pasqual                1\n",
       "West Los Angeles           1\n",
       "Koreatown                  1\n",
       "Studio City                1\n",
       "Long Beach                 1\n",
       "Name: neighbourhood, dtype: int64"
      ]
     },
     "execution_count": 151,
     "metadata": {},
     "output_type": "execute_result"
    }
   ],
   "source": [
    "#Which neighbourhood are the listings in? \n",
    "host_max['neighbourhood'].value_counts()"
   ]
  },
  {
   "cell_type": "code",
   "execution_count": 152,
   "metadata": {},
   "outputs": [
    {
     "data": {
      "text/plain": [
       "Entire home/apt    207\n",
       "Name: room_type, dtype: int64"
      ]
     },
     "execution_count": 152,
     "metadata": {},
     "output_type": "execute_result"
    }
   ],
   "source": [
    "host_max['room_type'].value_counts()"
   ]
  },
  {
   "cell_type": "markdown",
   "metadata": {},
   "source": [
    "# Listings during LockDowns in LA"
   ]
  },
  {
   "cell_type": "code",
   "execution_count": 89,
   "metadata": {},
   "outputs": [],
   "source": [
    "april = pd.read_csv('april_2020_listings.csv')"
   ]
  },
  {
   "cell_type": "code",
   "execution_count": 79,
   "metadata": {},
   "outputs": [
    {
     "data": {
      "text/plain": [
       "33174"
      ]
     },
     "execution_count": 79,
     "metadata": {},
     "output_type": "execute_result"
    }
   ],
   "source": [
    "april_covid = april[april['price']<300]\n",
    "len(april_covid)"
   ]
  },
  {
   "cell_type": "code",
   "execution_count": 80,
   "metadata": {},
   "outputs": [
    {
     "data": {
      "text/plain": [
       "count    33174.000000\n",
       "mean       112.724845\n",
       "std         63.571078\n",
       "min          0.000000\n",
       "25%         65.000000\n",
       "50%         99.000000\n",
       "75%        150.000000\n",
       "max        299.000000\n",
       "Name: price, dtype: float64"
      ]
     },
     "execution_count": 80,
     "metadata": {},
     "output_type": "execute_result"
    }
   ],
   "source": [
    "april_covid['price'].describe()"
   ]
  },
  {
   "cell_type": "code",
   "execution_count": 68,
   "metadata": {},
   "outputs": [],
   "source": [
    "may = pd.read_csv('may_2020_listings.csv')"
   ]
  },
  {
   "cell_type": "code",
   "execution_count": 81,
   "metadata": {},
   "outputs": [],
   "source": [
    "may_covid = may[may['price']<300]"
   ]
  },
  {
   "cell_type": "code",
   "execution_count": 82,
   "metadata": {},
   "outputs": [
    {
     "data": {
      "text/plain": [
       "count    32518.000000\n",
       "mean       112.433145\n",
       "std         63.235436\n",
       "min          0.000000\n",
       "25%         65.000000\n",
       "50%         99.000000\n",
       "75%        150.000000\n",
       "max        299.000000\n",
       "Name: price, dtype: float64"
      ]
     },
     "execution_count": 82,
     "metadata": {},
     "output_type": "execute_result"
    }
   ],
   "source": [
    "may_covid['price'].describe()"
   ]
  },
  {
   "cell_type": "markdown",
   "metadata": {},
   "source": [
    "# Analysis of Some Areas in LA "
   ]
  },
  {
   "cell_type": "code",
   "execution_count": 93,
   "metadata": {},
   "outputs": [
    {
     "data": {
      "text/plain": [
       "(11289, 15)"
      ]
     },
     "execution_count": 93,
     "metadata": {},
     "output_type": "execute_result"
    }
   ],
   "source": [
    "#Indexing\n",
    "df_ind = df.set_index('neighbourhood')\n",
    "df_nbh = df_ind.loc[['Venice', 'Hollywood', 'Long Beach', 'Hollywood', \"Downtown\", 'Santa Monica', \n",
    "                     'Pasadena', 'South Pasadena', 'Alhambra']]\n",
    "df_nbh.shape"
   ]
  },
  {
   "cell_type": "code",
   "execution_count": 94,
   "metadata": {},
   "outputs": [
    {
     "data": {
      "text/html": [
       "<div>\n",
       "<style scoped>\n",
       "    .dataframe tbody tr th:only-of-type {\n",
       "        vertical-align: middle;\n",
       "    }\n",
       "\n",
       "    .dataframe tbody tr th {\n",
       "        vertical-align: top;\n",
       "    }\n",
       "\n",
       "    .dataframe thead th {\n",
       "        text-align: right;\n",
       "    }\n",
       "</style>\n",
       "<table border=\"1\" class=\"dataframe\">\n",
       "  <thead>\n",
       "    <tr style=\"text-align: right;\">\n",
       "      <th></th>\n",
       "      <th>id</th>\n",
       "      <th>name</th>\n",
       "      <th>host_id</th>\n",
       "      <th>host_name</th>\n",
       "      <th>neighbourhood_group</th>\n",
       "      <th>latitude</th>\n",
       "      <th>longitude</th>\n",
       "      <th>room_type</th>\n",
       "      <th>price</th>\n",
       "      <th>minimum_nights</th>\n",
       "      <th>number_of_reviews</th>\n",
       "      <th>last_review</th>\n",
       "      <th>reviews_per_month</th>\n",
       "      <th>calculated_host_listings_count</th>\n",
       "      <th>availability_365</th>\n",
       "    </tr>\n",
       "    <tr>\n",
       "      <th>neighbourhood</th>\n",
       "      <th></th>\n",
       "      <th></th>\n",
       "      <th></th>\n",
       "      <th></th>\n",
       "      <th></th>\n",
       "      <th></th>\n",
       "      <th></th>\n",
       "      <th></th>\n",
       "      <th></th>\n",
       "      <th></th>\n",
       "      <th></th>\n",
       "      <th></th>\n",
       "      <th></th>\n",
       "      <th></th>\n",
       "      <th></th>\n",
       "    </tr>\n",
       "  </thead>\n",
       "  <tbody>\n",
       "    <tr>\n",
       "      <th>Venice</th>\n",
       "      <td>8770</td>\n",
       "      <td>Cozy Guest House on Venice Walk St.</td>\n",
       "      <td>26996</td>\n",
       "      <td>Lillian</td>\n",
       "      <td>City of Los Angeles</td>\n",
       "      <td>33.99399</td>\n",
       "      <td>-118.45637</td>\n",
       "      <td>Entire home/apt</td>\n",
       "      <td>121</td>\n",
       "      <td>3</td>\n",
       "      <td>400</td>\n",
       "      <td>2020-01-29</td>\n",
       "      <td>3.21</td>\n",
       "      <td>1</td>\n",
       "      <td>361</td>\n",
       "    </tr>\n",
       "    <tr>\n",
       "      <th>Venice</th>\n",
       "      <td>9376</td>\n",
       "      <td>Bright Apt, walk to Venice Beach</td>\n",
       "      <td>30319</td>\n",
       "      <td>Cristina</td>\n",
       "      <td>City of Los Angeles</td>\n",
       "      <td>33.99638</td>\n",
       "      <td>-118.47734</td>\n",
       "      <td>Private room</td>\n",
       "      <td>85</td>\n",
       "      <td>30</td>\n",
       "      <td>46</td>\n",
       "      <td>2019-11-04</td>\n",
       "      <td>0.36</td>\n",
       "      <td>2</td>\n",
       "      <td>357</td>\n",
       "    </tr>\n",
       "    <tr>\n",
       "      <th>Venice</th>\n",
       "      <td>11877</td>\n",
       "      <td>Le petit bungalow private entrance + bikes in VB</td>\n",
       "      <td>30484</td>\n",
       "      <td>Pascalou</td>\n",
       "      <td>City of Los Angeles</td>\n",
       "      <td>33.99753</td>\n",
       "      <td>-118.47226</td>\n",
       "      <td>Entire home/apt</td>\n",
       "      <td>90</td>\n",
       "      <td>30</td>\n",
       "      <td>45</td>\n",
       "      <td>2019-11-12</td>\n",
       "      <td>0.44</td>\n",
       "      <td>2</td>\n",
       "      <td>5</td>\n",
       "    </tr>\n",
       "    <tr>\n",
       "      <th>Venice</th>\n",
       "      <td>15440</td>\n",
       "      <td>Venice Beach Walkstreet Getaway</td>\n",
       "      <td>60473</td>\n",
       "      <td>Madeleine</td>\n",
       "      <td>City of Los Angeles</td>\n",
       "      <td>33.99359</td>\n",
       "      <td>-118.46049</td>\n",
       "      <td>Entire home/apt</td>\n",
       "      <td>140</td>\n",
       "      <td>2</td>\n",
       "      <td>811</td>\n",
       "      <td>2020-02-07</td>\n",
       "      <td>6.61</td>\n",
       "      <td>1</td>\n",
       "      <td>237</td>\n",
       "    </tr>\n",
       "    <tr>\n",
       "      <th>Venice</th>\n",
       "      <td>18041</td>\n",
       "      <td>Bohemian home w/detached Studio &amp; Rooftop Jacuzzi</td>\n",
       "      <td>69546</td>\n",
       "      <td>Lisa</td>\n",
       "      <td>City of Los Angeles</td>\n",
       "      <td>33.99138</td>\n",
       "      <td>-118.45087</td>\n",
       "      <td>Entire home/apt</td>\n",
       "      <td>300</td>\n",
       "      <td>2</td>\n",
       "      <td>1</td>\n",
       "      <td>2019-10-24</td>\n",
       "      <td>0.27</td>\n",
       "      <td>3</td>\n",
       "      <td>9</td>\n",
       "    </tr>\n",
       "  </tbody>\n",
       "</table>\n",
       "</div>"
      ],
      "text/plain": [
       "                  id                                               name  \\\n",
       "neighbourhood                                                             \n",
       "Venice          8770                Cozy Guest House on Venice Walk St.   \n",
       "Venice          9376                   Bright Apt, walk to Venice Beach   \n",
       "Venice         11877   Le petit bungalow private entrance + bikes in VB   \n",
       "Venice         15440                    Venice Beach Walkstreet Getaway   \n",
       "Venice         18041  Bohemian home w/detached Studio & Rooftop Jacuzzi   \n",
       "\n",
       "               host_id  host_name  neighbourhood_group  latitude  longitude  \\\n",
       "neighbourhood                                                                 \n",
       "Venice           26996    Lillian  City of Los Angeles  33.99399 -118.45637   \n",
       "Venice           30319   Cristina  City of Los Angeles  33.99638 -118.47734   \n",
       "Venice           30484   Pascalou  City of Los Angeles  33.99753 -118.47226   \n",
       "Venice           60473  Madeleine  City of Los Angeles  33.99359 -118.46049   \n",
       "Venice           69546       Lisa  City of Los Angeles  33.99138 -118.45087   \n",
       "\n",
       "                     room_type  price  minimum_nights  number_of_reviews  \\\n",
       "neighbourhood                                                              \n",
       "Venice         Entire home/apt    121               3                400   \n",
       "Venice            Private room     85              30                 46   \n",
       "Venice         Entire home/apt     90              30                 45   \n",
       "Venice         Entire home/apt    140               2                811   \n",
       "Venice         Entire home/apt    300               2                  1   \n",
       "\n",
       "              last_review  reviews_per_month  calculated_host_listings_count  \\\n",
       "neighbourhood                                                                  \n",
       "Venice         2020-01-29               3.21                               1   \n",
       "Venice         2019-11-04               0.36                               2   \n",
       "Venice         2019-11-12               0.44                               2   \n",
       "Venice         2020-02-07               6.61                               1   \n",
       "Venice         2019-10-24               0.27                               3   \n",
       "\n",
       "               availability_365  \n",
       "neighbourhood                    \n",
       "Venice                      361  \n",
       "Venice                      357  \n",
       "Venice                        5  \n",
       "Venice                      237  \n",
       "Venice                        9  "
      ]
     },
     "execution_count": 94,
     "metadata": {},
     "output_type": "execute_result"
    }
   ],
   "source": [
    "df_nbh.head()"
   ]
  },
  {
   "cell_type": "markdown",
   "metadata": {},
   "source": [
    "# Create Sample DataFrames, Aggregate Data, and Statistical Analysis"
   ]
  },
  {
   "cell_type": "code",
   "execution_count": 95,
   "metadata": {},
   "outputs": [
    {
     "data": {
      "text/plain": [
       "(543, 15)"
      ]
     },
     "execution_count": 95,
     "metadata": {},
     "output_type": "execute_result"
    }
   ],
   "source": [
    "pasadena = df_ind.loc['Pasadena']\n",
    "pasadena.shape"
   ]
  },
  {
   "cell_type": "code",
   "execution_count": 96,
   "metadata": {},
   "outputs": [
    {
     "data": {
      "text/plain": [
       "(331, 15)"
      ]
     },
     "execution_count": 96,
     "metadata": {},
     "output_type": "execute_result"
    }
   ],
   "source": [
    "alhambra = df_ind.loc['Alhambra']\n",
    "alhambra.shape"
   ]
  },
  {
   "cell_type": "code",
   "execution_count": 97,
   "metadata": {},
   "outputs": [
    {
     "data": {
      "text/plain": [
       "(1403, 15)"
      ]
     },
     "execution_count": 97,
     "metadata": {},
     "output_type": "execute_result"
    }
   ],
   "source": [
    "downtown = df_ind.loc['Downtown']\n",
    "downtown.shape"
   ]
  },
  {
   "cell_type": "code",
   "execution_count": 98,
   "metadata": {},
   "outputs": [
    {
     "data": {
      "text/plain": [
       "(88, 15)"
      ]
     },
     "execution_count": 98,
     "metadata": {},
     "output_type": "execute_result"
    }
   ],
   "source": [
    "south_pasadena = df_ind.loc['South Pasadena']\n",
    "south_pasadena.shape"
   ]
  },
  {
   "cell_type": "code",
   "execution_count": 160,
   "metadata": {},
   "outputs": [
    {
     "data": {
      "text/html": [
       "<div>\n",
       "<style scoped>\n",
       "    .dataframe tbody tr th:only-of-type {\n",
       "        vertical-align: middle;\n",
       "    }\n",
       "\n",
       "    .dataframe tbody tr th {\n",
       "        vertical-align: top;\n",
       "    }\n",
       "\n",
       "    .dataframe thead th {\n",
       "        text-align: right;\n",
       "    }\n",
       "</style>\n",
       "<table border=\"1\" class=\"dataframe\">\n",
       "  <thead>\n",
       "    <tr style=\"text-align: right;\">\n",
       "      <th></th>\n",
       "      <th>id</th>\n",
       "      <th>name</th>\n",
       "      <th>host_id</th>\n",
       "      <th>host_name</th>\n",
       "      <th>neighbourhood_group</th>\n",
       "      <th>latitude</th>\n",
       "      <th>longitude</th>\n",
       "      <th>room_type</th>\n",
       "      <th>price</th>\n",
       "      <th>minimum_nights</th>\n",
       "      <th>number_of_reviews</th>\n",
       "      <th>last_review</th>\n",
       "      <th>reviews_per_month</th>\n",
       "      <th>calculated_host_listings_count</th>\n",
       "      <th>availability_365</th>\n",
       "    </tr>\n",
       "    <tr>\n",
       "      <th>neighbourhood</th>\n",
       "      <th></th>\n",
       "      <th></th>\n",
       "      <th></th>\n",
       "      <th></th>\n",
       "      <th></th>\n",
       "      <th></th>\n",
       "      <th></th>\n",
       "      <th></th>\n",
       "      <th></th>\n",
       "      <th></th>\n",
       "      <th></th>\n",
       "      <th></th>\n",
       "      <th></th>\n",
       "      <th></th>\n",
       "      <th></th>\n",
       "    </tr>\n",
       "  </thead>\n",
       "  <tbody>\n",
       "    <tr>\n",
       "      <th>South Pasadena</th>\n",
       "      <td>15768323</td>\n",
       "      <td>5 bd/2bt Close to Rose Parade &amp; Rose Bowl Stad...</td>\n",
       "      <td>219283</td>\n",
       "      <td>Helena</td>\n",
       "      <td>Other Cities</td>\n",
       "      <td>34.10455</td>\n",
       "      <td>-118.15543</td>\n",
       "      <td>Entire home/apt</td>\n",
       "      <td>875</td>\n",
       "      <td>4</td>\n",
       "      <td>2</td>\n",
       "      <td>2019-01-02</td>\n",
       "      <td>0.07</td>\n",
       "      <td>9</td>\n",
       "      <td>130</td>\n",
       "    </tr>\n",
       "    <tr>\n",
       "      <th>South Pasadena</th>\n",
       "      <td>22015188</td>\n",
       "      <td>South Pasadena Home - Master Bedroom</td>\n",
       "      <td>28636568</td>\n",
       "      <td>Jeff</td>\n",
       "      <td>Other Cities</td>\n",
       "      <td>34.10510</td>\n",
       "      <td>-118.16967</td>\n",
       "      <td>Private room</td>\n",
       "      <td>550</td>\n",
       "      <td>2</td>\n",
       "      <td>34</td>\n",
       "      <td>2020-01-19</td>\n",
       "      <td>1.31</td>\n",
       "      <td>1</td>\n",
       "      <td>0</td>\n",
       "    </tr>\n",
       "    <tr>\n",
       "      <th>South Pasadena</th>\n",
       "      <td>39022191</td>\n",
       "      <td>Arroyo Vista Inn , Veranda, Delightful craftsman</td>\n",
       "      <td>298137532</td>\n",
       "      <td>Arroyo Vista Inn</td>\n",
       "      <td>Other Cities</td>\n",
       "      <td>34.11030</td>\n",
       "      <td>-118.16764</td>\n",
       "      <td>Private room</td>\n",
       "      <td>1000</td>\n",
       "      <td>1</td>\n",
       "      <td>0</td>\n",
       "      <td>NaN</td>\n",
       "      <td>NaN</td>\n",
       "      <td>3</td>\n",
       "      <td>365</td>\n",
       "    </tr>\n",
       "    <tr>\n",
       "      <th>South Pasadena</th>\n",
       "      <td>39022320</td>\n",
       "      <td>Arroyo Vista Inn, Daybreak, Delightful craftsman</td>\n",
       "      <td>298137532</td>\n",
       "      <td>Arroyo Vista Inn</td>\n",
       "      <td>Other Cities</td>\n",
       "      <td>34.11104</td>\n",
       "      <td>-118.16790</td>\n",
       "      <td>Private room</td>\n",
       "      <td>1000</td>\n",
       "      <td>1</td>\n",
       "      <td>0</td>\n",
       "      <td>NaN</td>\n",
       "      <td>NaN</td>\n",
       "      <td>3</td>\n",
       "      <td>365</td>\n",
       "    </tr>\n",
       "    <tr>\n",
       "      <th>South Pasadena</th>\n",
       "      <td>39025489</td>\n",
       "      <td>Arroyo Vista Inn,  Oak Terrance Room</td>\n",
       "      <td>298137532</td>\n",
       "      <td>Arroyo Vista Inn</td>\n",
       "      <td>Other Cities</td>\n",
       "      <td>34.11174</td>\n",
       "      <td>-118.16741</td>\n",
       "      <td>Private room</td>\n",
       "      <td>1000</td>\n",
       "      <td>1</td>\n",
       "      <td>1</td>\n",
       "      <td>2020-01-14</td>\n",
       "      <td>1.00</td>\n",
       "      <td>3</td>\n",
       "      <td>363</td>\n",
       "    </tr>\n",
       "  </tbody>\n",
       "</table>\n",
       "</div>"
      ],
      "text/plain": [
       "                      id                                               name  \\\n",
       "neighbourhood                                                                 \n",
       "South Pasadena  15768323  5 bd/2bt Close to Rose Parade & Rose Bowl Stad...   \n",
       "South Pasadena  22015188               South Pasadena Home - Master Bedroom   \n",
       "South Pasadena  39022191   Arroyo Vista Inn , Veranda, Delightful craftsman   \n",
       "South Pasadena  39022320   Arroyo Vista Inn, Daybreak, Delightful craftsman   \n",
       "South Pasadena  39025489               Arroyo Vista Inn,  Oak Terrance Room   \n",
       "\n",
       "                  host_id         host_name neighbourhood_group  latitude  \\\n",
       "neighbourhood                                                               \n",
       "South Pasadena     219283            Helena        Other Cities  34.10455   \n",
       "South Pasadena   28636568              Jeff        Other Cities  34.10510   \n",
       "South Pasadena  298137532  Arroyo Vista Inn        Other Cities  34.11030   \n",
       "South Pasadena  298137532  Arroyo Vista Inn        Other Cities  34.11104   \n",
       "South Pasadena  298137532  Arroyo Vista Inn        Other Cities  34.11174   \n",
       "\n",
       "                longitude        room_type  price  minimum_nights  \\\n",
       "neighbourhood                                                       \n",
       "South Pasadena -118.15543  Entire home/apt    875               4   \n",
       "South Pasadena -118.16967     Private room    550               2   \n",
       "South Pasadena -118.16764     Private room   1000               1   \n",
       "South Pasadena -118.16790     Private room   1000               1   \n",
       "South Pasadena -118.16741     Private room   1000               1   \n",
       "\n",
       "                number_of_reviews last_review  reviews_per_month  \\\n",
       "neighbourhood                                                      \n",
       "South Pasadena                  2  2019-01-02               0.07   \n",
       "South Pasadena                 34  2020-01-19               1.31   \n",
       "South Pasadena                  0         NaN                NaN   \n",
       "South Pasadena                  0         NaN                NaN   \n",
       "South Pasadena                  1  2020-01-14               1.00   \n",
       "\n",
       "                calculated_host_listings_count  availability_365  \n",
       "neighbourhood                                                     \n",
       "South Pasadena                               9               130  \n",
       "South Pasadena                               1                 0  \n",
       "South Pasadena                               3               365  \n",
       "South Pasadena                               3               365  \n",
       "South Pasadena                               3               363  "
      ]
     },
     "execution_count": 160,
     "metadata": {},
     "output_type": "execute_result"
    }
   ],
   "source": [
    "south_pasadena[south_pasadena['price']>500]"
   ]
  },
  {
   "cell_type": "code",
   "execution_count": 161,
   "metadata": {},
   "outputs": [
    {
     "data": {
      "text/plain": [
       "count      88.000000\n",
       "mean      206.352273\n",
       "std       211.000465\n",
       "min        40.000000\n",
       "25%        85.000000\n",
       "50%       122.500000\n",
       "75%       201.250000\n",
       "max      1000.000000\n",
       "Name: price, dtype: float64"
      ]
     },
     "execution_count": 161,
     "metadata": {},
     "output_type": "execute_result"
    }
   ],
   "source": [
    "south_pasadena['price'].value_counts()"
   ]
  },
  {
   "cell_type": "code",
   "execution_count": 162,
   "metadata": {},
   "outputs": [
    {
     "data": {
      "text/plain": [
       "Entire home/apt    61\n",
       "Private room       26\n",
       "Hotel room          1\n",
       "Name: room_type, dtype: int64"
      ]
     },
     "execution_count": 162,
     "metadata": {},
     "output_type": "execute_result"
    }
   ],
   "source": [
    "south_pasadena['room_type'].value_counts()"
   ]
  },
  {
   "cell_type": "code",
   "execution_count": 99,
   "metadata": {},
   "outputs": [
    {
     "data": {
      "text/plain": [
       "(1298, 15)"
      ]
     },
     "execution_count": 99,
     "metadata": {},
     "output_type": "execute_result"
    }
   ],
   "source": [
    "santa_monica = df_ind.loc['Santa Monica']\n",
    "santa_monica.shape"
   ]
  },
  {
   "cell_type": "code",
   "execution_count": 100,
   "metadata": {},
   "outputs": [
    {
     "data": {
      "text/plain": [
       "(1931, 15)"
      ]
     },
     "execution_count": 100,
     "metadata": {},
     "output_type": "execute_result"
    }
   ],
   "source": [
    "holly_wood = df_ind.loc['Hollywood']\n",
    "holly_wood.shape"
   ]
  },
  {
   "cell_type": "code",
   "execution_count": 101,
   "metadata": {},
   "outputs": [
    {
     "data": {
      "text/plain": [
       "(1971, 15)"
      ]
     },
     "execution_count": 101,
     "metadata": {},
     "output_type": "execute_result"
    }
   ],
   "source": [
    "venice = df_ind.loc['Venice']\n",
    "venice.shape"
   ]
  },
  {
   "cell_type": "code",
   "execution_count": 102,
   "metadata": {},
   "outputs": [
    {
     "data": {
      "text/html": [
       "<div>\n",
       "<style scoped>\n",
       "    .dataframe tbody tr th:only-of-type {\n",
       "        vertical-align: middle;\n",
       "    }\n",
       "\n",
       "    .dataframe tbody tr th {\n",
       "        vertical-align: top;\n",
       "    }\n",
       "\n",
       "    .dataframe thead th {\n",
       "        text-align: right;\n",
       "    }\n",
       "</style>\n",
       "<table border=\"1\" class=\"dataframe\">\n",
       "  <thead>\n",
       "    <tr style=\"text-align: right;\">\n",
       "      <th></th>\n",
       "      <th>price</th>\n",
       "    </tr>\n",
       "    <tr>\n",
       "      <th>neighbourhood</th>\n",
       "      <th></th>\n",
       "    </tr>\n",
       "  </thead>\n",
       "  <tbody>\n",
       "    <tr>\n",
       "      <th>Acton</th>\n",
       "      <td>109.800000</td>\n",
       "    </tr>\n",
       "    <tr>\n",
       "      <th>Adams-Normandie</th>\n",
       "      <td>95.780000</td>\n",
       "    </tr>\n",
       "    <tr>\n",
       "      <th>Agoura Hills</th>\n",
       "      <td>205.976744</td>\n",
       "    </tr>\n",
       "    <tr>\n",
       "      <th>Agua Dulce</th>\n",
       "      <td>161.384615</td>\n",
       "    </tr>\n",
       "    <tr>\n",
       "      <th>Alhambra</th>\n",
       "      <td>96.631420</td>\n",
       "    </tr>\n",
       "    <tr>\n",
       "      <th>...</th>\n",
       "      <td>...</td>\n",
       "    </tr>\n",
       "    <tr>\n",
       "      <th>Willowbrook</th>\n",
       "      <td>124.277778</td>\n",
       "    </tr>\n",
       "    <tr>\n",
       "      <th>Wilmington</th>\n",
       "      <td>63.029412</td>\n",
       "    </tr>\n",
       "    <tr>\n",
       "      <th>Windsor Square</th>\n",
       "      <td>485.608696</td>\n",
       "    </tr>\n",
       "    <tr>\n",
       "      <th>Winnetka</th>\n",
       "      <td>97.084337</td>\n",
       "    </tr>\n",
       "    <tr>\n",
       "      <th>Woodland Hills</th>\n",
       "      <td>213.500000</td>\n",
       "    </tr>\n",
       "  </tbody>\n",
       "</table>\n",
       "<p>264 rows × 1 columns</p>\n",
       "</div>"
      ],
      "text/plain": [
       "                      price\n",
       "neighbourhood              \n",
       "Acton            109.800000\n",
       "Adams-Normandie   95.780000\n",
       "Agoura Hills     205.976744\n",
       "Agua Dulce       161.384615\n",
       "Alhambra          96.631420\n",
       "...                     ...\n",
       "Willowbrook      124.277778\n",
       "Wilmington        63.029412\n",
       "Windsor Square   485.608696\n",
       "Winnetka          97.084337\n",
       "Woodland Hills   213.500000\n",
       "\n",
       "[264 rows x 1 columns]"
      ]
     },
     "execution_count": 102,
     "metadata": {},
     "output_type": "execute_result"
    }
   ],
   "source": [
    "avg_nbh_price = df.pivot_table(values='price', index='neighbourhood')\n",
    "avg_nbh_price"
   ]
  },
  {
   "cell_type": "code",
   "execution_count": 103,
   "metadata": {},
   "outputs": [
    {
     "data": {
      "text/html": [
       "<div>\n",
       "<style scoped>\n",
       "    .dataframe tbody tr th:only-of-type {\n",
       "        vertical-align: middle;\n",
       "    }\n",
       "\n",
       "    .dataframe tbody tr th {\n",
       "        vertical-align: top;\n",
       "    }\n",
       "\n",
       "    .dataframe thead tr th {\n",
       "        text-align: left;\n",
       "    }\n",
       "\n",
       "    .dataframe thead tr:last-of-type th {\n",
       "        text-align: right;\n",
       "    }\n",
       "</style>\n",
       "<table border=\"1\" class=\"dataframe\">\n",
       "  <thead>\n",
       "    <tr>\n",
       "      <th></th>\n",
       "      <th>amin</th>\n",
       "      <th>amax</th>\n",
       "      <th>mean</th>\n",
       "      <th>median</th>\n",
       "    </tr>\n",
       "    <tr>\n",
       "      <th></th>\n",
       "      <th>price</th>\n",
       "      <th>price</th>\n",
       "      <th>price</th>\n",
       "      <th>price</th>\n",
       "    </tr>\n",
       "    <tr>\n",
       "      <th>neighbourhood</th>\n",
       "      <th></th>\n",
       "      <th></th>\n",
       "      <th></th>\n",
       "      <th></th>\n",
       "    </tr>\n",
       "  </thead>\n",
       "  <tbody>\n",
       "    <tr>\n",
       "      <th>Acton</th>\n",
       "      <td>30</td>\n",
       "      <td>255</td>\n",
       "      <td>109.800000</td>\n",
       "      <td>95.0</td>\n",
       "    </tr>\n",
       "    <tr>\n",
       "      <th>Adams-Normandie</th>\n",
       "      <td>25</td>\n",
       "      <td>300</td>\n",
       "      <td>95.780000</td>\n",
       "      <td>61.0</td>\n",
       "    </tr>\n",
       "    <tr>\n",
       "      <th>Agoura Hills</th>\n",
       "      <td>40</td>\n",
       "      <td>1795</td>\n",
       "      <td>205.976744</td>\n",
       "      <td>80.0</td>\n",
       "    </tr>\n",
       "    <tr>\n",
       "      <th>Agua Dulce</th>\n",
       "      <td>55</td>\n",
       "      <td>750</td>\n",
       "      <td>161.384615</td>\n",
       "      <td>79.0</td>\n",
       "    </tr>\n",
       "    <tr>\n",
       "      <th>Alhambra</th>\n",
       "      <td>10</td>\n",
       "      <td>899</td>\n",
       "      <td>96.631420</td>\n",
       "      <td>68.0</td>\n",
       "    </tr>\n",
       "    <tr>\n",
       "      <th>...</th>\n",
       "      <td>...</td>\n",
       "      <td>...</td>\n",
       "      <td>...</td>\n",
       "      <td>...</td>\n",
       "    </tr>\n",
       "    <tr>\n",
       "      <th>Willowbrook</th>\n",
       "      <td>25</td>\n",
       "      <td>350</td>\n",
       "      <td>124.277778</td>\n",
       "      <td>80.0</td>\n",
       "    </tr>\n",
       "    <tr>\n",
       "      <th>Wilmington</th>\n",
       "      <td>45</td>\n",
       "      <td>139</td>\n",
       "      <td>63.029412</td>\n",
       "      <td>61.0</td>\n",
       "    </tr>\n",
       "    <tr>\n",
       "      <th>Windsor Square</th>\n",
       "      <td>34</td>\n",
       "      <td>10000</td>\n",
       "      <td>485.608696</td>\n",
       "      <td>112.0</td>\n",
       "    </tr>\n",
       "    <tr>\n",
       "      <th>Winnetka</th>\n",
       "      <td>29</td>\n",
       "      <td>276</td>\n",
       "      <td>97.084337</td>\n",
       "      <td>79.0</td>\n",
       "    </tr>\n",
       "    <tr>\n",
       "      <th>Woodland Hills</th>\n",
       "      <td>30</td>\n",
       "      <td>9000</td>\n",
       "      <td>213.500000</td>\n",
       "      <td>89.5</td>\n",
       "    </tr>\n",
       "  </tbody>\n",
       "</table>\n",
       "<p>264 rows × 4 columns</p>\n",
       "</div>"
      ],
      "text/plain": [
       "                 amin   amax        mean median\n",
       "                price  price       price  price\n",
       "neighbourhood                                  \n",
       "Acton              30    255  109.800000   95.0\n",
       "Adams-Normandie    25    300   95.780000   61.0\n",
       "Agoura Hills       40   1795  205.976744   80.0\n",
       "Agua Dulce         55    750  161.384615   79.0\n",
       "Alhambra           10    899   96.631420   68.0\n",
       "...               ...    ...         ...    ...\n",
       "Willowbrook        25    350  124.277778   80.0\n",
       "Wilmington         45    139   63.029412   61.0\n",
       "Windsor Square     34  10000  485.608696  112.0\n",
       "Winnetka           29    276   97.084337   79.0\n",
       "Woodland Hills     30   9000  213.500000   89.5\n",
       "\n",
       "[264 rows x 4 columns]"
      ]
     },
     "execution_count": 103,
     "metadata": {},
     "output_type": "execute_result"
    }
   ],
   "source": [
    "avg_nbh_stats = df.pivot_table(values='price', index='neighbourhood', \n",
    "                               aggfunc=[np.min, np.max, np.mean, np.median])\n",
    "avg_nbh_stats"
   ]
  },
  {
   "cell_type": "code",
   "execution_count": 104,
   "metadata": {},
   "outputs": [],
   "source": [
    "#nbh_rentals = df.pivot(values=[['price', 'room_type']], index='neighbourhood')"
   ]
  },
  {
   "cell_type": "code",
   "execution_count": 105,
   "metadata": {},
   "outputs": [
    {
     "data": {
      "text/html": [
       "<div>\n",
       "<style scoped>\n",
       "    .dataframe tbody tr th:only-of-type {\n",
       "        vertical-align: middle;\n",
       "    }\n",
       "\n",
       "    .dataframe tbody tr th {\n",
       "        vertical-align: top;\n",
       "    }\n",
       "\n",
       "    .dataframe thead tr th {\n",
       "        text-align: left;\n",
       "    }\n",
       "\n",
       "    .dataframe thead tr:last-of-type th {\n",
       "        text-align: right;\n",
       "    }\n",
       "</style>\n",
       "<table border=\"1\" class=\"dataframe\">\n",
       "  <thead>\n",
       "    <tr>\n",
       "      <th></th>\n",
       "      <th>amin</th>\n",
       "      <th>amax</th>\n",
       "      <th>mean</th>\n",
       "      <th>median</th>\n",
       "    </tr>\n",
       "    <tr>\n",
       "      <th></th>\n",
       "      <th>price</th>\n",
       "      <th>price</th>\n",
       "      <th>price</th>\n",
       "      <th>price</th>\n",
       "    </tr>\n",
       "    <tr>\n",
       "      <th>neighbourhood</th>\n",
       "      <th></th>\n",
       "      <th></th>\n",
       "      <th></th>\n",
       "      <th></th>\n",
       "    </tr>\n",
       "  </thead>\n",
       "  <tbody>\n",
       "    <tr>\n",
       "      <th>Alhambra</th>\n",
       "      <td>10</td>\n",
       "      <td>899</td>\n",
       "      <td>96.631420</td>\n",
       "      <td>68.0</td>\n",
       "    </tr>\n",
       "    <tr>\n",
       "      <th>Downtown</th>\n",
       "      <td>19</td>\n",
       "      <td>10000</td>\n",
       "      <td>272.434783</td>\n",
       "      <td>148.0</td>\n",
       "    </tr>\n",
       "    <tr>\n",
       "      <th>Hollywood</th>\n",
       "      <td>10</td>\n",
       "      <td>10000</td>\n",
       "      <td>165.778871</td>\n",
       "      <td>119.0</td>\n",
       "    </tr>\n",
       "    <tr>\n",
       "      <th>Long Beach</th>\n",
       "      <td>0</td>\n",
       "      <td>10000</td>\n",
       "      <td>190.833240</td>\n",
       "      <td>100.0</td>\n",
       "    </tr>\n",
       "    <tr>\n",
       "      <th>Pasadena</th>\n",
       "      <td>17</td>\n",
       "      <td>2000</td>\n",
       "      <td>154.596685</td>\n",
       "      <td>110.0</td>\n",
       "    </tr>\n",
       "    <tr>\n",
       "      <th>Santa Monica</th>\n",
       "      <td>35</td>\n",
       "      <td>10000</td>\n",
       "      <td>219.768875</td>\n",
       "      <td>149.0</td>\n",
       "    </tr>\n",
       "    <tr>\n",
       "      <th>South Pasadena</th>\n",
       "      <td>40</td>\n",
       "      <td>1000</td>\n",
       "      <td>206.352273</td>\n",
       "      <td>122.5</td>\n",
       "    </tr>\n",
       "    <tr>\n",
       "      <th>Venice</th>\n",
       "      <td>39</td>\n",
       "      <td>10000</td>\n",
       "      <td>269.026383</td>\n",
       "      <td>175.0</td>\n",
       "    </tr>\n",
       "  </tbody>\n",
       "</table>\n",
       "</div>"
      ],
      "text/plain": [
       "                amin   amax        mean median\n",
       "               price  price       price  price\n",
       "neighbourhood                                 \n",
       "Alhambra          10    899   96.631420   68.0\n",
       "Downtown          19  10000  272.434783  148.0\n",
       "Hollywood         10  10000  165.778871  119.0\n",
       "Long Beach         0  10000  190.833240  100.0\n",
       "Pasadena          17   2000  154.596685  110.0\n",
       "Santa Monica      35  10000  219.768875  149.0\n",
       "South Pasadena    40   1000  206.352273  122.5\n",
       "Venice            39  10000  269.026383  175.0"
      ]
     },
     "execution_count": 105,
     "metadata": {},
     "output_type": "execute_result"
    }
   ],
   "source": [
    "new_nbh_stats = df_nbh.pivot_table(values='price', index='neighbourhood', \n",
    "                               aggfunc=[np.min, np.max, np.mean, np.median])\n",
    "new_nbh_stats"
   ]
  },
  {
   "cell_type": "code",
   "execution_count": 106,
   "metadata": {},
   "outputs": [
    {
     "data": {
      "text/html": [
       "<div>\n",
       "<style scoped>\n",
       "    .dataframe tbody tr th:only-of-type {\n",
       "        vertical-align: middle;\n",
       "    }\n",
       "\n",
       "    .dataframe tbody tr th {\n",
       "        vertical-align: top;\n",
       "    }\n",
       "\n",
       "    .dataframe thead th {\n",
       "        text-align: right;\n",
       "    }\n",
       "</style>\n",
       "<table border=\"1\" class=\"dataframe\">\n",
       "  <thead>\n",
       "    <tr style=\"text-align: right;\">\n",
       "      <th>room_type</th>\n",
       "      <th>Entire home/apt</th>\n",
       "      <th>Hotel room</th>\n",
       "      <th>Private room</th>\n",
       "      <th>Shared room</th>\n",
       "    </tr>\n",
       "    <tr>\n",
       "      <th>neighbourhood</th>\n",
       "      <th></th>\n",
       "      <th></th>\n",
       "      <th></th>\n",
       "      <th></th>\n",
       "    </tr>\n",
       "  </thead>\n",
       "  <tbody>\n",
       "    <tr>\n",
       "      <th>Acton</th>\n",
       "      <td>97.000000</td>\n",
       "      <td>NaN</td>\n",
       "      <td>118.333333</td>\n",
       "      <td>NaN</td>\n",
       "    </tr>\n",
       "    <tr>\n",
       "      <th>Adams-Normandie</th>\n",
       "      <td>172.533333</td>\n",
       "      <td>NaN</td>\n",
       "      <td>62.885714</td>\n",
       "      <td>NaN</td>\n",
       "    </tr>\n",
       "    <tr>\n",
       "      <th>Agoura Hills</th>\n",
       "      <td>381.842105</td>\n",
       "      <td>NaN</td>\n",
       "      <td>66.750000</td>\n",
       "      <td>NaN</td>\n",
       "    </tr>\n",
       "    <tr>\n",
       "      <th>Agua Dulce</th>\n",
       "      <td>221.750000</td>\n",
       "      <td>NaN</td>\n",
       "      <td>64.800000</td>\n",
       "      <td>NaN</td>\n",
       "    </tr>\n",
       "    <tr>\n",
       "      <th>Alhambra</th>\n",
       "      <td>150.206667</td>\n",
       "      <td>NaN</td>\n",
       "      <td>52.235955</td>\n",
       "      <td>52.000000</td>\n",
       "    </tr>\n",
       "    <tr>\n",
       "      <th>...</th>\n",
       "      <td>...</td>\n",
       "      <td>...</td>\n",
       "      <td>...</td>\n",
       "      <td>...</td>\n",
       "    </tr>\n",
       "    <tr>\n",
       "      <th>Willowbrook</th>\n",
       "      <td>195.555556</td>\n",
       "      <td>NaN</td>\n",
       "      <td>56.500000</td>\n",
       "      <td>25.000000</td>\n",
       "    </tr>\n",
       "    <tr>\n",
       "      <th>Wilmington</th>\n",
       "      <td>76.555556</td>\n",
       "      <td>61.533333</td>\n",
       "      <td>53.100000</td>\n",
       "      <td>NaN</td>\n",
       "    </tr>\n",
       "    <tr>\n",
       "      <th>Windsor Square</th>\n",
       "      <td>688.586207</td>\n",
       "      <td>NaN</td>\n",
       "      <td>180.250000</td>\n",
       "      <td>41.200000</td>\n",
       "    </tr>\n",
       "    <tr>\n",
       "      <th>Winnetka</th>\n",
       "      <td>130.625000</td>\n",
       "      <td>NaN</td>\n",
       "      <td>76.560000</td>\n",
       "      <td>50.000000</td>\n",
       "    </tr>\n",
       "    <tr>\n",
       "      <th>Woodland Hills</th>\n",
       "      <td>328.607955</td>\n",
       "      <td>NaN</td>\n",
       "      <td>75.128571</td>\n",
       "      <td>65.666667</td>\n",
       "    </tr>\n",
       "  </tbody>\n",
       "</table>\n",
       "<p>264 rows × 4 columns</p>\n",
       "</div>"
      ],
      "text/plain": [
       "room_type        Entire home/apt  Hotel room  Private room  Shared room\n",
       "neighbourhood                                                          \n",
       "Acton                  97.000000         NaN    118.333333          NaN\n",
       "Adams-Normandie       172.533333         NaN     62.885714          NaN\n",
       "Agoura Hills          381.842105         NaN     66.750000          NaN\n",
       "Agua Dulce            221.750000         NaN     64.800000          NaN\n",
       "Alhambra              150.206667         NaN     52.235955    52.000000\n",
       "...                          ...         ...           ...          ...\n",
       "Willowbrook           195.555556         NaN     56.500000    25.000000\n",
       "Wilmington             76.555556   61.533333     53.100000          NaN\n",
       "Windsor Square        688.586207         NaN    180.250000    41.200000\n",
       "Winnetka              130.625000         NaN     76.560000    50.000000\n",
       "Woodland Hills        328.607955         NaN     75.128571    65.666667\n",
       "\n",
       "[264 rows x 4 columns]"
      ]
     },
     "execution_count": 106,
     "metadata": {},
     "output_type": "execute_result"
    }
   ],
   "source": [
    "price_avgs_per_room = df_ind.pivot_table('price', index='neighbourhood', columns=['room_type'])\n",
    "price_avgs_per_room"
   ]
  },
  {
   "cell_type": "code",
   "execution_count": 107,
   "metadata": {},
   "outputs": [
    {
     "data": {
      "text/html": [
       "<div>\n",
       "<style scoped>\n",
       "    .dataframe tbody tr th:only-of-type {\n",
       "        vertical-align: middle;\n",
       "    }\n",
       "\n",
       "    .dataframe tbody tr th {\n",
       "        vertical-align: top;\n",
       "    }\n",
       "\n",
       "    .dataframe thead th {\n",
       "        text-align: right;\n",
       "    }\n",
       "</style>\n",
       "<table border=\"1\" class=\"dataframe\">\n",
       "  <thead>\n",
       "    <tr style=\"text-align: right;\">\n",
       "      <th>room_type</th>\n",
       "      <th>Entire home/apt</th>\n",
       "      <th>Private room</th>\n",
       "      <th>Shared room</th>\n",
       "    </tr>\n",
       "    <tr>\n",
       "      <th>neighbourhood</th>\n",
       "      <th></th>\n",
       "      <th></th>\n",
       "      <th></th>\n",
       "    </tr>\n",
       "  </thead>\n",
       "  <tbody>\n",
       "    <tr>\n",
       "      <th>Acton</th>\n",
       "      <td>97.000000</td>\n",
       "      <td>118.333333</td>\n",
       "      <td>NaN</td>\n",
       "    </tr>\n",
       "    <tr>\n",
       "      <th>Adams-Normandie</th>\n",
       "      <td>172.533333</td>\n",
       "      <td>62.885714</td>\n",
       "      <td>NaN</td>\n",
       "    </tr>\n",
       "    <tr>\n",
       "      <th>Agoura Hills</th>\n",
       "      <td>381.842105</td>\n",
       "      <td>66.750000</td>\n",
       "      <td>NaN</td>\n",
       "    </tr>\n",
       "    <tr>\n",
       "      <th>Agua Dulce</th>\n",
       "      <td>221.750000</td>\n",
       "      <td>64.800000</td>\n",
       "      <td>NaN</td>\n",
       "    </tr>\n",
       "    <tr>\n",
       "      <th>Alhambra</th>\n",
       "      <td>150.206667</td>\n",
       "      <td>52.235955</td>\n",
       "      <td>52.000000</td>\n",
       "    </tr>\n",
       "    <tr>\n",
       "      <th>...</th>\n",
       "      <td>...</td>\n",
       "      <td>...</td>\n",
       "      <td>...</td>\n",
       "    </tr>\n",
       "    <tr>\n",
       "      <th>Willowbrook</th>\n",
       "      <td>195.555556</td>\n",
       "      <td>56.500000</td>\n",
       "      <td>25.000000</td>\n",
       "    </tr>\n",
       "    <tr>\n",
       "      <th>Wilmington</th>\n",
       "      <td>76.555556</td>\n",
       "      <td>53.100000</td>\n",
       "      <td>NaN</td>\n",
       "    </tr>\n",
       "    <tr>\n",
       "      <th>Windsor Square</th>\n",
       "      <td>688.586207</td>\n",
       "      <td>180.250000</td>\n",
       "      <td>41.200000</td>\n",
       "    </tr>\n",
       "    <tr>\n",
       "      <th>Winnetka</th>\n",
       "      <td>130.625000</td>\n",
       "      <td>76.560000</td>\n",
       "      <td>50.000000</td>\n",
       "    </tr>\n",
       "    <tr>\n",
       "      <th>Woodland Hills</th>\n",
       "      <td>328.607955</td>\n",
       "      <td>75.128571</td>\n",
       "      <td>65.666667</td>\n",
       "    </tr>\n",
       "  </tbody>\n",
       "</table>\n",
       "<p>264 rows × 3 columns</p>\n",
       "</div>"
      ],
      "text/plain": [
       "room_type        Entire home/apt  Private room  Shared room\n",
       "neighbourhood                                              \n",
       "Acton                  97.000000    118.333333          NaN\n",
       "Adams-Normandie       172.533333     62.885714          NaN\n",
       "Agoura Hills          381.842105     66.750000          NaN\n",
       "Agua Dulce            221.750000     64.800000          NaN\n",
       "Alhambra              150.206667     52.235955    52.000000\n",
       "...                          ...           ...          ...\n",
       "Willowbrook           195.555556     56.500000    25.000000\n",
       "Wilmington             76.555556     53.100000          NaN\n",
       "Windsor Square        688.586207    180.250000    41.200000\n",
       "Winnetka              130.625000     76.560000    50.000000\n",
       "Woodland Hills        328.607955     75.128571    65.666667\n",
       "\n",
       "[264 rows x 3 columns]"
      ]
     },
     "execution_count": 107,
     "metadata": {},
     "output_type": "execute_result"
    }
   ],
   "source": [
    "#Dropping \"Hotel room\" column\n",
    "avg_prices = price_avgs_per_room.drop(columns='Hotel room')\n",
    "avg_prices"
   ]
  },
  {
   "cell_type": "code",
   "execution_count": 108,
   "metadata": {},
   "outputs": [
    {
     "data": {
      "text/html": [
       "<div>\n",
       "<style scoped>\n",
       "    .dataframe tbody tr th:only-of-type {\n",
       "        vertical-align: middle;\n",
       "    }\n",
       "\n",
       "    .dataframe tbody tr th {\n",
       "        vertical-align: top;\n",
       "    }\n",
       "\n",
       "    .dataframe thead th {\n",
       "        text-align: right;\n",
       "    }\n",
       "</style>\n",
       "<table border=\"1\" class=\"dataframe\">\n",
       "  <thead>\n",
       "    <tr style=\"text-align: right;\">\n",
       "      <th>room_type</th>\n",
       "      <th>Entire home/apt</th>\n",
       "      <th>Hotel room</th>\n",
       "      <th>Private room</th>\n",
       "      <th>Shared room</th>\n",
       "    </tr>\n",
       "    <tr>\n",
       "      <th>neighbourhood</th>\n",
       "      <th></th>\n",
       "      <th></th>\n",
       "      <th></th>\n",
       "      <th></th>\n",
       "    </tr>\n",
       "  </thead>\n",
       "  <tbody>\n",
       "    <tr>\n",
       "      <th>Alhambra</th>\n",
       "      <td>150.206667</td>\n",
       "      <td>NaN</td>\n",
       "      <td>52.235955</td>\n",
       "      <td>52.000000</td>\n",
       "    </tr>\n",
       "    <tr>\n",
       "      <th>Downtown</th>\n",
       "      <td>227.796718</td>\n",
       "      <td>104.714286</td>\n",
       "      <td>519.893878</td>\n",
       "      <td>61.424242</td>\n",
       "    </tr>\n",
       "    <tr>\n",
       "      <th>Hollywood</th>\n",
       "      <td>182.426471</td>\n",
       "      <td>179.200000</td>\n",
       "      <td>101.213592</td>\n",
       "      <td>201.830986</td>\n",
       "    </tr>\n",
       "    <tr>\n",
       "      <th>Long Beach</th>\n",
       "      <td>169.668619</td>\n",
       "      <td>119.333333</td>\n",
       "      <td>258.940594</td>\n",
       "      <td>60.928571</td>\n",
       "    </tr>\n",
       "    <tr>\n",
       "      <th>Pasadena</th>\n",
       "      <td>198.179710</td>\n",
       "      <td>160.000000</td>\n",
       "      <td>78.786458</td>\n",
       "      <td>57.400000</td>\n",
       "    </tr>\n",
       "    <tr>\n",
       "      <th>Santa Monica</th>\n",
       "      <td>217.221053</td>\n",
       "      <td>5086.666667</td>\n",
       "      <td>147.839117</td>\n",
       "      <td>60.600000</td>\n",
       "    </tr>\n",
       "    <tr>\n",
       "      <th>South Pasadena</th>\n",
       "      <td>197.573770</td>\n",
       "      <td>135.000000</td>\n",
       "      <td>229.692308</td>\n",
       "      <td>NaN</td>\n",
       "    </tr>\n",
       "    <tr>\n",
       "      <th>Venice</th>\n",
       "      <td>279.969079</td>\n",
       "      <td>5766.571429</td>\n",
       "      <td>112.120253</td>\n",
       "      <td>56.290323</td>\n",
       "    </tr>\n",
       "  </tbody>\n",
       "</table>\n",
       "</div>"
      ],
      "text/plain": [
       "room_type       Entire home/apt   Hotel room  Private room  Shared room\n",
       "neighbourhood                                                          \n",
       "Alhambra             150.206667          NaN     52.235955    52.000000\n",
       "Downtown             227.796718   104.714286    519.893878    61.424242\n",
       "Hollywood            182.426471   179.200000    101.213592   201.830986\n",
       "Long Beach           169.668619   119.333333    258.940594    60.928571\n",
       "Pasadena             198.179710   160.000000     78.786458    57.400000\n",
       "Santa Monica         217.221053  5086.666667    147.839117    60.600000\n",
       "South Pasadena       197.573770   135.000000    229.692308          NaN\n",
       "Venice               279.969079  5766.571429    112.120253    56.290323"
      ]
     },
     "execution_count": 108,
     "metadata": {},
     "output_type": "execute_result"
    }
   ],
   "source": [
    "new_nbh_stats_2 = df_nbh.pivot_table('price', index='neighbourhood', columns=['room_type'])\n",
    "new_nbh_stats_2"
   ]
  },
  {
   "cell_type": "code",
   "execution_count": 109,
   "metadata": {},
   "outputs": [
    {
     "data": {
      "image/png": "[encoded data removed]",
      "text/plain": [
       "<Figure size 432x288 with 1 Axes>"
      ]
     },
     "metadata": {
      "needs_background": "light"
     },
     "output_type": "display_data"
    }
   ],
   "source": [
    "#Historgram of Entire Home/Apartment based on Price in Venice and Santa Monica\n",
    "venice[venice['room_type'] == 'Entire home/apt']['price'].hist(alpha=0.4, bins=50)\n",
    "santa_monica[santa_monica['room_type'] == 'Entire home/apt']['price'].hist(alpha=0.4, bins=50)\n",
    "plt.legend(['Venice', 'Santa Monica'])\n",
    "plt.show()"
   ]
  },
  {
   "cell_type": "code",
   "execution_count": 110,
   "metadata": {},
   "outputs": [
    {
     "data": {
      "image/png": "[encoded data removed]",
      "text/plain": [
       "<Figure size 432x288 with 1 Axes>"
      ]
     },
     "metadata": {
      "needs_background": "light"
     },
     "output_type": "display_data"
    }
   ],
   "source": [
    "#Histogram on Entire Home/Apartment based on Price in Pasadena and South Pasadena\n",
    "pasadena[pasadena['room_type'] == 'Entire home/apt']['price'].hist(alpha=0.5, bins=75)\n",
    "south_pasadena[south_pasadena['room_type'] == 'Entire home/apt']['price'].hist(alpha=0.5, bins=75)\n",
    "plt.legend(['Pasadena', 'South Pasadena'])\n",
    "plt.show()"
   ]
  },
  {
   "cell_type": "code",
   "execution_count": 111,
   "metadata": {
    "scrolled": true
   },
   "outputs": [
    {
     "data": {
      "text/html": [
       "<div>\n",
       "<style scoped>\n",
       "    .dataframe tbody tr th:only-of-type {\n",
       "        vertical-align: middle;\n",
       "    }\n",
       "\n",
       "    .dataframe tbody tr th {\n",
       "        vertical-align: top;\n",
       "    }\n",
       "\n",
       "    .dataframe thead tr th {\n",
       "        text-align: left;\n",
       "    }\n",
       "\n",
       "    .dataframe thead tr:last-of-type th {\n",
       "        text-align: right;\n",
       "    }\n",
       "</style>\n",
       "<table border=\"1\" class=\"dataframe\">\n",
       "  <thead>\n",
       "    <tr>\n",
       "      <th></th>\n",
       "      <th colspan=\"4\" halign=\"left\">mean</th>\n",
       "      <th colspan=\"4\" halign=\"left\">amin</th>\n",
       "      <th colspan=\"4\" halign=\"left\">amax</th>\n",
       "      <th colspan=\"4\" halign=\"left\">median</th>\n",
       "    </tr>\n",
       "    <tr>\n",
       "      <th>room_type</th>\n",
       "      <th>Entire home/apt</th>\n",
       "      <th>Hotel room</th>\n",
       "      <th>Private room</th>\n",
       "      <th>Shared room</th>\n",
       "      <th>Entire home/apt</th>\n",
       "      <th>Hotel room</th>\n",
       "      <th>Private room</th>\n",
       "      <th>Shared room</th>\n",
       "      <th>Entire home/apt</th>\n",
       "      <th>Hotel room</th>\n",
       "      <th>Private room</th>\n",
       "      <th>Shared room</th>\n",
       "      <th>Entire home/apt</th>\n",
       "      <th>Hotel room</th>\n",
       "      <th>Private room</th>\n",
       "      <th>Shared room</th>\n",
       "    </tr>\n",
       "    <tr>\n",
       "      <th>neighbourhood</th>\n",
       "      <th></th>\n",
       "      <th></th>\n",
       "      <th></th>\n",
       "      <th></th>\n",
       "      <th></th>\n",
       "      <th></th>\n",
       "      <th></th>\n",
       "      <th></th>\n",
       "      <th></th>\n",
       "      <th></th>\n",
       "      <th></th>\n",
       "      <th></th>\n",
       "      <th></th>\n",
       "      <th></th>\n",
       "      <th></th>\n",
       "      <th></th>\n",
       "    </tr>\n",
       "  </thead>\n",
       "  <tbody>\n",
       "    <tr>\n",
       "      <th>Alhambra</th>\n",
       "      <td>150.206667</td>\n",
       "      <td>NaN</td>\n",
       "      <td>52.235955</td>\n",
       "      <td>52.000000</td>\n",
       "      <td>43.0</td>\n",
       "      <td>NaN</td>\n",
       "      <td>10.0</td>\n",
       "      <td>39.0</td>\n",
       "      <td>899.0</td>\n",
       "      <td>NaN</td>\n",
       "      <td>228.0</td>\n",
       "      <td>67.0</td>\n",
       "      <td>123.5</td>\n",
       "      <td>NaN</td>\n",
       "      <td>46.0</td>\n",
       "      <td>50.0</td>\n",
       "    </tr>\n",
       "    <tr>\n",
       "      <th>Downtown</th>\n",
       "      <td>227.796718</td>\n",
       "      <td>104.714286</td>\n",
       "      <td>519.893878</td>\n",
       "      <td>61.424242</td>\n",
       "      <td>25.0</td>\n",
       "      <td>40.0</td>\n",
       "      <td>23.0</td>\n",
       "      <td>19.0</td>\n",
       "      <td>5455.0</td>\n",
       "      <td>299.0</td>\n",
       "      <td>10000.0</td>\n",
       "      <td>400.0</td>\n",
       "      <td>155.0</td>\n",
       "      <td>95.5</td>\n",
       "      <td>89.0</td>\n",
       "      <td>37.0</td>\n",
       "    </tr>\n",
       "    <tr>\n",
       "      <th>Hollywood</th>\n",
       "      <td>182.426471</td>\n",
       "      <td>179.200000</td>\n",
       "      <td>101.213592</td>\n",
       "      <td>201.830986</td>\n",
       "      <td>10.0</td>\n",
       "      <td>35.0</td>\n",
       "      <td>20.0</td>\n",
       "      <td>17.0</td>\n",
       "      <td>3600.0</td>\n",
       "      <td>389.0</td>\n",
       "      <td>1500.0</td>\n",
       "      <td>10000.0</td>\n",
       "      <td>134.0</td>\n",
       "      <td>114.5</td>\n",
       "      <td>74.0</td>\n",
       "      <td>40.0</td>\n",
       "    </tr>\n",
       "    <tr>\n",
       "      <th>Long Beach</th>\n",
       "      <td>169.668619</td>\n",
       "      <td>119.333333</td>\n",
       "      <td>258.940594</td>\n",
       "      <td>60.928571</td>\n",
       "      <td>13.0</td>\n",
       "      <td>76.0</td>\n",
       "      <td>0.0</td>\n",
       "      <td>10.0</td>\n",
       "      <td>9000.0</td>\n",
       "      <td>249.0</td>\n",
       "      <td>10000.0</td>\n",
       "      <td>425.0</td>\n",
       "      <td>125.0</td>\n",
       "      <td>99.0</td>\n",
       "      <td>65.0</td>\n",
       "      <td>35.0</td>\n",
       "    </tr>\n",
       "    <tr>\n",
       "      <th>Pasadena</th>\n",
       "      <td>198.179710</td>\n",
       "      <td>160.000000</td>\n",
       "      <td>78.786458</td>\n",
       "      <td>57.400000</td>\n",
       "      <td>50.0</td>\n",
       "      <td>160.0</td>\n",
       "      <td>28.0</td>\n",
       "      <td>17.0</td>\n",
       "      <td>2000.0</td>\n",
       "      <td>160.0</td>\n",
       "      <td>300.0</td>\n",
       "      <td>95.0</td>\n",
       "      <td>145.0</td>\n",
       "      <td>160.0</td>\n",
       "      <td>74.0</td>\n",
       "      <td>50.0</td>\n",
       "    </tr>\n",
       "    <tr>\n",
       "      <th>Santa Monica</th>\n",
       "      <td>217.221053</td>\n",
       "      <td>5086.666667</td>\n",
       "      <td>147.839117</td>\n",
       "      <td>60.600000</td>\n",
       "      <td>50.0</td>\n",
       "      <td>150.0</td>\n",
       "      <td>39.0</td>\n",
       "      <td>35.0</td>\n",
       "      <td>3750.0</td>\n",
       "      <td>10000.0</td>\n",
       "      <td>950.0</td>\n",
       "      <td>500.0</td>\n",
       "      <td>169.0</td>\n",
       "      <td>5097.5</td>\n",
       "      <td>100.0</td>\n",
       "      <td>40.0</td>\n",
       "    </tr>\n",
       "    <tr>\n",
       "      <th>South Pasadena</th>\n",
       "      <td>197.573770</td>\n",
       "      <td>135.000000</td>\n",
       "      <td>229.692308</td>\n",
       "      <td>NaN</td>\n",
       "      <td>61.0</td>\n",
       "      <td>135.0</td>\n",
       "      <td>40.0</td>\n",
       "      <td>NaN</td>\n",
       "      <td>875.0</td>\n",
       "      <td>135.0</td>\n",
       "      <td>1000.0</td>\n",
       "      <td>NaN</td>\n",
       "      <td>125.0</td>\n",
       "      <td>135.0</td>\n",
       "      <td>87.5</td>\n",
       "      <td>NaN</td>\n",
       "    </tr>\n",
       "    <tr>\n",
       "      <th>Venice</th>\n",
       "      <td>279.969079</td>\n",
       "      <td>5766.571429</td>\n",
       "      <td>112.120253</td>\n",
       "      <td>56.290323</td>\n",
       "      <td>48.0</td>\n",
       "      <td>60.0</td>\n",
       "      <td>40.0</td>\n",
       "      <td>39.0</td>\n",
       "      <td>3473.0</td>\n",
       "      <td>10000.0</td>\n",
       "      <td>850.0</td>\n",
       "      <td>143.0</td>\n",
       "      <td>199.0</td>\n",
       "      <td>10000.0</td>\n",
       "      <td>99.0</td>\n",
       "      <td>49.0</td>\n",
       "    </tr>\n",
       "  </tbody>\n",
       "</table>\n",
       "</div>"
      ],
      "text/plain": [
       "                          mean                                        \\\n",
       "room_type      Entire home/apt   Hotel room Private room Shared room   \n",
       "neighbourhood                                                          \n",
       "Alhambra            150.206667          NaN    52.235955   52.000000   \n",
       "Downtown            227.796718   104.714286   519.893878   61.424242   \n",
       "Hollywood           182.426471   179.200000   101.213592  201.830986   \n",
       "Long Beach          169.668619   119.333333   258.940594   60.928571   \n",
       "Pasadena            198.179710   160.000000    78.786458   57.400000   \n",
       "Santa Monica        217.221053  5086.666667   147.839117   60.600000   \n",
       "South Pasadena      197.573770   135.000000   229.692308         NaN   \n",
       "Venice              279.969079  5766.571429   112.120253   56.290323   \n",
       "\n",
       "                          amin                                      \\\n",
       "room_type      Entire home/apt Hotel room Private room Shared room   \n",
       "neighbourhood                                                        \n",
       "Alhambra                  43.0        NaN         10.0        39.0   \n",
       "Downtown                  25.0       40.0         23.0        19.0   \n",
       "Hollywood                 10.0       35.0         20.0        17.0   \n",
       "Long Beach                13.0       76.0          0.0        10.0   \n",
       "Pasadena                  50.0      160.0         28.0        17.0   \n",
       "Santa Monica              50.0      150.0         39.0        35.0   \n",
       "South Pasadena            61.0      135.0         40.0         NaN   \n",
       "Venice                    48.0       60.0         40.0        39.0   \n",
       "\n",
       "                          amax                                      \\\n",
       "room_type      Entire home/apt Hotel room Private room Shared room   \n",
       "neighbourhood                                                        \n",
       "Alhambra                 899.0        NaN        228.0        67.0   \n",
       "Downtown                5455.0      299.0      10000.0       400.0   \n",
       "Hollywood               3600.0      389.0       1500.0     10000.0   \n",
       "Long Beach              9000.0      249.0      10000.0       425.0   \n",
       "Pasadena                2000.0      160.0        300.0        95.0   \n",
       "Santa Monica            3750.0    10000.0        950.0       500.0   \n",
       "South Pasadena           875.0      135.0       1000.0         NaN   \n",
       "Venice                  3473.0    10000.0        850.0       143.0   \n",
       "\n",
       "                        median                                      \n",
       "room_type      Entire home/apt Hotel room Private room Shared room  \n",
       "neighbourhood                                                       \n",
       "Alhambra                 123.5        NaN         46.0        50.0  \n",
       "Downtown                 155.0       95.5         89.0        37.0  \n",
       "Hollywood                134.0      114.5         74.0        40.0  \n",
       "Long Beach               125.0       99.0         65.0        35.0  \n",
       "Pasadena                 145.0      160.0         74.0        50.0  \n",
       "Santa Monica             169.0     5097.5        100.0        40.0  \n",
       "South Pasadena           125.0      135.0         87.5         NaN  \n",
       "Venice                   199.0    10000.0         99.0        49.0  "
      ]
     },
     "execution_count": 111,
     "metadata": {},
     "output_type": "execute_result"
    }
   ],
   "source": [
    "new_nbh_stats_3 = df_nbh.pivot_table('price', index='neighbourhood', columns=['room_type'], \n",
    "                                     aggfunc=[np.mean, np.min, np.max, np.median])\n",
    "new_nbh_stats_3"
   ]
  },
  {
   "cell_type": "code",
   "execution_count": 112,
   "metadata": {
    "scrolled": true
   },
   "outputs": [
    {
     "data": {
      "text/plain": [
       "Index(['id', 'name', 'host_id', 'host_name', 'neighbourhood_group', 'latitude',\n",
       "       'longitude', 'room_type', 'price', 'minimum_nights',\n",
       "       'number_of_reviews', 'last_review', 'reviews_per_month',\n",
       "       'calculated_host_listings_count', 'availability_365'],\n",
       "      dtype='object')"
      ]
     },
     "execution_count": 112,
     "metadata": {},
     "output_type": "execute_result"
    }
   ],
   "source": [
    "df_nbh.columns"
   ]
  },
  {
   "cell_type": "code",
   "execution_count": 113,
   "metadata": {},
   "outputs": [],
   "source": [
    "#Get percentage and ratio of room_types"
   ]
  },
  {
   "cell_type": "code",
   "execution_count": null,
   "metadata": {},
   "outputs": [],
   "source": []
  }
 ],
 "metadata": {
  "kernelspec": {
   "display_name": "Python 3",
   "language": "python",
   "name": "python3"
  },
  "language_info": {
   "codemirror_mode": {
    "name": "ipython",
    "version": 3
   },
   "file_extension": ".py",
   "mimetype": "text/x-python",
   "name": "python",
   "nbconvert_exporter": "python",
   "pygments_lexer": "ipython3",
   "version": "3.7.6"
  }
 },
 "nbformat": 4,
 "nbformat_minor": 2
}
